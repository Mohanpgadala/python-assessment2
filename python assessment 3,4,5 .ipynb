{
  "cells": [
    {
      "cell_type": "markdown",
      "metadata": {
        "id": "view-in-github",
        "colab_type": "text"
      },
      "source": [
        "<a href=\"https://colab.research.google.com/github/Mohanpgadala/python-assessment2/blob/main/python%20assessment%203%2C4%2C5%20.ipynb\" target=\"_parent\"><img src=\"https://colab.research.google.com/assets/colab-badge.svg\" alt=\"Open In Colab\"/></a>"
      ]
    },
    {
      "cell_type": "code",
      "execution_count": null,
      "metadata": {
        "id": "gikkf5tNhxSE"
      },
      "outputs": [],
      "source": []
    },
    {
      "cell_type": "markdown",
      "metadata": {
        "id": "_KMr8B6vos5F"
      },
      "source": []
    },
    {
      "cell_type": "markdown",
      "metadata": {
        "id": "NvLbkVQfibDK"
      },
      "source": [
        "**Operators:**\n",
        "Operators are divided into the following groups:\n",
        "*   Arithmetic operators\n",
        "*  Assignment operators\n",
        "* Comparison operators\n",
        "* Logical operators\n",
        "* Identity operators\n",
        "* Membership operators\n",
        "* Bitwise operators"
      ]
    },
    {
      "cell_type": "markdown",
      "metadata": {
        "id": "5EQ-OD0zj4AP"
      },
      "source": []
    },
    {
      "cell_type": "code",
      "execution_count": null,
      "metadata": {
        "cellView": "form",
        "colab": {
          "base_uri": "https://localhost:8080/"
        },
        "id": "n-fL03Izxll0",
        "outputId": "b5475330-036f-4d3b-b6b3-748e58d64098"
      },
      "outputs": [
        {
          "name": "stdout",
          "output_type": "stream",
          "text": [
            "5\n",
            "8\n",
            "13\n"
          ]
        }
      ],
      "source": [
        "# @title Addition\n",
        "a=int(input())\n",
        "b=int(input())\n",
        "print(a+b)\n"
      ]
    },
    {
      "cell_type": "code",
      "execution_count": null,
      "metadata": {
        "colab": {
          "base_uri": "https://localhost:8080/"
        },
        "id": "2UP2T6ecx84e",
        "outputId": "7d86ad8a-67b7-4074-f473-c88d82bf3534"
      },
      "outputs": [
        {
          "name": "stdout",
          "output_type": "stream",
          "text": [
            "2\n",
            "3\n",
            "5\n"
          ]
        }
      ],
      "source": [
        "\n",
        "a=int(input())\n",
        "b=int(input())\n",
        "c=a+b\n",
        "print(c)\n"
      ]
    },
    {
      "cell_type": "code",
      "execution_count": null,
      "metadata": {
        "cellView": "form",
        "colab": {
          "base_uri": "https://localhost:8080/"
        },
        "id": "YEo7Opg0yTrk",
        "outputId": "0071db83-1e25-4f08-f2a3-74b44ad6ab89"
      },
      "outputs": [
        {
          "name": "stdout",
          "output_type": "stream",
          "text": [
            "5\n",
            "2\n",
            "3\n"
          ]
        }
      ],
      "source": [
        "# @title Subtraction\n",
        "\n",
        "a=int(input())\n",
        "b=int(input())\n",
        "print(a-b)\n"
      ]
    },
    {
      "cell_type": "code",
      "execution_count": null,
      "metadata": {
        "colab": {
          "base_uri": "https://localhost:8080/"
        },
        "id": "4D0LNOn0ykGA",
        "outputId": "361c92b7-e65e-4606-bc6b-71530a4b1f3f"
      },
      "outputs": [
        {
          "name": "stdout",
          "output_type": "stream",
          "text": [
            "2\n",
            "5\n",
            "-3\n"
          ]
        }
      ],
      "source": [
        "a=int(input())\n",
        "b=int(input())\n",
        "print(a-b)"
      ]
    },
    {
      "cell_type": "code",
      "execution_count": null,
      "metadata": {
        "cellView": "form",
        "colab": {
          "base_uri": "https://localhost:8080/"
        },
        "id": "CKXlFilWyulE",
        "outputId": "3972df96-6b54-421f-d03f-3a97766d534d"
      },
      "outputs": [
        {
          "name": "stdout",
          "output_type": "stream",
          "text": [
            "5\n",
            "6\n",
            "30\n"
          ]
        }
      ],
      "source": [
        "# @title Multiplication\n",
        "a=int(input())\n",
        "b=int(input())\n",
        "c=a*b\n",
        "print(c)\n"
      ]
    },
    {
      "cell_type": "code",
      "execution_count": null,
      "metadata": {
        "colab": {
          "base_uri": "https://localhost:8080/"
        },
        "id": "TSJtJvCMy5bS",
        "outputId": "33e6e739-dd84-445e-f9a7-54ca0c00181f"
      },
      "outputs": [
        {
          "name": "stdout",
          "output_type": "stream",
          "text": [
            "2\n",
            "5\n",
            "10\n"
          ]
        }
      ],
      "source": [
        "a=int(input())\n",
        "b=int(input())\n",
        "print(a*b)"
      ]
    },
    {
      "cell_type": "code",
      "execution_count": null,
      "metadata": {
        "cellView": "form",
        "colab": {
          "base_uri": "https://localhost:8080/"
        },
        "id": "J9qJPEd0zBSM",
        "outputId": "40a212e6-0744-4bce-9704-d59224ff75cb"
      },
      "outputs": [
        {
          "name": "stdout",
          "output_type": "stream",
          "text": [
            "5\n",
            "2\n",
            "2.5\n"
          ]
        }
      ],
      "source": [
        "# @title Division\n",
        "a=int(input())\n",
        "b=int(input())\n",
        "c=a/b\n",
        "print(c)\n"
      ]
    },
    {
      "cell_type": "code",
      "execution_count": null,
      "metadata": {
        "colab": {
          "base_uri": "https://localhost:8080/"
        },
        "id": "IlANfLdYzLyE",
        "outputId": "fd6e1672-3586-45f9-8693-90fa3838dcbb"
      },
      "outputs": [
        {
          "name": "stdout",
          "output_type": "stream",
          "text": [
            "2\n",
            "3\n",
            "0.6666666666666666\n"
          ]
        }
      ],
      "source": [
        "a=int(input())\n",
        "b=int(input())\n",
        "print(a/b)"
      ]
    },
    {
      "cell_type": "code",
      "execution_count": null,
      "metadata": {
        "colab": {
          "base_uri": "https://localhost:8080/"
        },
        "id": "wEkZfww6zpya",
        "outputId": "aca7f646-a777-43be-86e6-f0c99ada68a2"
      },
      "outputs": [
        {
          "name": "stdout",
          "output_type": "stream",
          "text": [
            "5\n",
            "8\n",
            "5\n"
          ]
        }
      ],
      "source": [
        "# @title Modulus\n",
        "a=int(input())\n",
        "b=int(input())\n",
        "c=a%b\n",
        "print(c)\n"
      ]
    },
    {
      "cell_type": "code",
      "execution_count": null,
      "metadata": {
        "colab": {
          "base_uri": "https://localhost:8080/"
        },
        "id": "P1HL7XKKzpos",
        "outputId": "bd50425e-0af7-4c03-aca2-bdba238ac6fd"
      },
      "outputs": [
        {
          "name": "stdout",
          "output_type": "stream",
          "text": [
            "8\n",
            "5\n",
            "3\n"
          ]
        }
      ],
      "source": [
        "a=int(input())\n",
        "b=int(input())\n",
        "print(a%b)"
      ]
    },
    {
      "cell_type": "code",
      "execution_count": null,
      "metadata": {
        "colab": {
          "base_uri": "https://localhost:8080/"
        },
        "id": "CEOwVRsl0Qbi",
        "outputId": "4d57ee67-8a07-4f28-821b-18e326eafce1"
      },
      "outputs": [
        {
          "name": "stdout",
          "output_type": "stream",
          "text": [
            "2\n",
            "3\n",
            "8\n"
          ]
        }
      ],
      "source": [
        "# @title Exponentiation\n",
        "a=int(input())\n",
        "b=int(input())\n",
        "c=a**b\n",
        "print(c)\n"
      ]
    },
    {
      "cell_type": "code",
      "execution_count": null,
      "metadata": {
        "colab": {
          "base_uri": "https://localhost:8080/"
        },
        "id": "cF0SCAuV0gJb",
        "outputId": "a4657abb-304a-4a60-ea38-868bf27b0936"
      },
      "outputs": [
        {
          "name": "stdout",
          "output_type": "stream",
          "text": [
            "4\n",
            "2\n",
            "16\n"
          ]
        }
      ],
      "source": [
        "a=int(input())\n",
        "b=int(input())\n",
        "print(a**b)"
      ]
    },
    {
      "cell_type": "code",
      "execution_count": null,
      "metadata": {
        "colab": {
          "base_uri": "https://localhost:8080/"
        },
        "id": "HCdPqLlk0oWw",
        "outputId": "e4419a50-e066-419c-bd00-7d361adf4111"
      },
      "outputs": [
        {
          "name": "stdout",
          "output_type": "stream",
          "text": [
            "3\n",
            "2\n",
            "9\n"
          ]
        }
      ],
      "source": [
        "# @title Floor division\n",
        "a=int(input())\n",
        "b=int(input())\n",
        "c=a**b\n",
        "print(c)\n",
        "\n",
        "\n"
      ]
    },
    {
      "cell_type": "code",
      "execution_count": null,
      "metadata": {
        "colab": {
          "base_uri": "https://localhost:8080/"
        },
        "id": "jBEhkd9q00A7",
        "outputId": "b52d0f4c-7c40-4c8f-d950-26523273efa6"
      },
      "outputs": [
        {
          "name": "stdout",
          "output_type": "stream",
          "text": [
            "4\n",
            "2\n",
            "2\n"
          ]
        }
      ],
      "source": [
        "a=int(input())\n",
        "b=int(input())\n",
        "print(a//b)"
      ]
    },
    {
      "cell_type": "markdown",
      "metadata": {
        "id": "wenl9XY51CpX"
      },
      "source": [
        "**Assignment operators:**\n",
        "Assignment operators are used to assign values to variables:\n",
        "* =\n",
        "* +=\n",
        "* -=\n",
        "* *=\n",
        "* /=\n",
        "* %=\n",
        "* //=\n",
        "* **=\n",
        "* &=\n",
        "* |=\n",
        "* ^=\n",
        "* >>=\n",
        "* <<=\n",
        "* :=\n",
        "\n"
      ]
    },
    {
      "cell_type": "code",
      "execution_count": null,
      "metadata": {
        "colab": {
          "base_uri": "https://localhost:8080/"
        },
        "id": "1lbrx0FO3LZ7",
        "outputId": "a812e478-2ef6-4d15-d966-cb32d8d765c4"
      },
      "outputs": [
        {
          "name": "stdout",
          "output_type": "stream",
          "text": [
            "6\n",
            "6\n"
          ]
        }
      ],
      "source": [
        "# @title =\n",
        "a=int(input())\n",
        "b=a\n",
        "print(b)\n"
      ]
    },
    {
      "cell_type": "code",
      "execution_count": null,
      "metadata": {
        "colab": {
          "base_uri": "https://localhost:8080/"
        },
        "id": "LKVGHHk23SW7",
        "outputId": "1f7c016b-6048-4489-b952-21f45bee58a0"
      },
      "outputs": [
        {
          "name": "stdout",
          "output_type": "stream",
          "text": [
            "6\n",
            "10\n"
          ]
        }
      ],
      "source": [
        "# @title +=\n",
        "a=int(input())\n",
        "a += 4\n",
        "print(a)\n"
      ]
    },
    {
      "cell_type": "code",
      "execution_count": null,
      "metadata": {
        "colab": {
          "base_uri": "https://localhost:8080/"
        },
        "id": "zwb827vG3Sp0",
        "outputId": "46a94985-273b-469f-9cc7-f17c9beced2f"
      },
      "outputs": [
        {
          "name": "stdout",
          "output_type": "stream",
          "text": [
            "6\n",
            "2\n"
          ]
        }
      ],
      "source": [
        "# @title -=\n",
        "a=int(input())\n",
        "a -= 4\n",
        "print(a)\n"
      ]
    },
    {
      "cell_type": "code",
      "execution_count": null,
      "metadata": {
        "colab": {
          "base_uri": "https://localhost:8080/"
        },
        "id": "XFyhSZjk3S0P",
        "outputId": "0bd4edc2-040e-4abc-ee7f-98e2d746aeb1"
      },
      "outputs": [
        {
          "name": "stdout",
          "output_type": "stream",
          "text": [
            "2\n",
            "8\n"
          ]
        }
      ],
      "source": [
        "# @title *=\n",
        "a=int(input())\n",
        "a *= 4\n",
        "print(a)\n"
      ]
    },
    {
      "cell_type": "code",
      "execution_count": null,
      "metadata": {
        "colab": {
          "base_uri": "https://localhost:8080/"
        },
        "id": "n2sExp8h3S9o",
        "outputId": "1952586d-5816-4317-c7ea-4c8c2ca78f49"
      },
      "outputs": [
        {
          "name": "stdout",
          "output_type": "stream",
          "text": [
            "7\n",
            "1.75\n"
          ]
        }
      ],
      "source": [
        "# @title /=\n",
        "a=int(input())\n",
        "a /= 4\n",
        "print(a)\n"
      ]
    },
    {
      "cell_type": "code",
      "execution_count": null,
      "metadata": {
        "cellView": "form",
        "colab": {
          "base_uri": "https://localhost:8080/"
        },
        "id": "VYgXMvag3TED",
        "outputId": "a435e08e-feb6-4ce2-c680-0aeda2dc0179"
      },
      "outputs": [
        {
          "name": "stdout",
          "output_type": "stream",
          "text": [
            "8\n",
            "0\n"
          ]
        }
      ],
      "source": [
        "# @title %=\n",
        "a=int(input())\n",
        "a %= 4\n",
        "print(a)\n"
      ]
    },
    {
      "cell_type": "code",
      "execution_count": null,
      "metadata": {
        "cellView": "form",
        "colab": {
          "base_uri": "https://localhost:8080/"
        },
        "id": "v16Ny_zq3TKT",
        "outputId": "55bb981a-504d-44a1-8a07-824f230afcfe"
      },
      "outputs": [
        {
          "name": "stdout",
          "output_type": "stream",
          "text": [
            "2\n",
            "16\n"
          ]
        }
      ],
      "source": [
        "# @title **=\n",
        "a=int(input())\n",
        "a **= 4\n",
        "print(a)\n"
      ]
    },
    {
      "cell_type": "code",
      "execution_count": null,
      "metadata": {
        "colab": {
          "base_uri": "https://localhost:8080/"
        },
        "id": "dASyUdXD3TPX",
        "outputId": "1c1d4e93-9eeb-49af-91e6-cf76a91dc548"
      },
      "outputs": [
        {
          "name": "stdout",
          "output_type": "stream",
          "text": [
            "5\n",
            "1\n"
          ]
        }
      ],
      "source": [
        "# @title //=\n",
        "a=int(input())\n",
        "a //= 4\n",
        "print(a)\n"
      ]
    },
    {
      "cell_type": "code",
      "execution_count": null,
      "metadata": {
        "colab": {
          "base_uri": "https://localhost:8080/"
        },
        "id": "vqt6qwXQ3TT8",
        "outputId": "8c22b20a-921d-4c9b-9ac8-8249fe5e5fab"
      },
      "outputs": [
        {
          "name": "stdout",
          "output_type": "stream",
          "text": [
            "6\n",
            "2\n"
          ]
        }
      ],
      "source": [
        "# @title &=\n",
        "a=int(input())\n",
        "a &= 3\n",
        "print(a)\n"
      ]
    },
    {
      "cell_type": "code",
      "execution_count": null,
      "metadata": {
        "colab": {
          "base_uri": "https://localhost:8080/"
        },
        "id": "ALZU2UEw3TYo",
        "outputId": "960f6a71-29aa-433f-bc46-6ebf4e65d043"
      },
      "outputs": [
        {
          "name": "stdout",
          "output_type": "stream",
          "text": [
            "5\n",
            "7\n"
          ]
        }
      ],
      "source": [
        "# @title |=\n",
        "a=int(input())\n",
        "a |= 3\n",
        "print(a)\n"
      ]
    },
    {
      "cell_type": "code",
      "execution_count": null,
      "metadata": {
        "colab": {
          "base_uri": "https://localhost:8080/"
        },
        "id": "h_IHgtuu3Tcl",
        "outputId": "8e8261fe-79ed-413b-b5ce-e50f8b65f775"
      },
      "outputs": [
        {
          "name": "stdout",
          "output_type": "stream",
          "text": [
            "2\n",
            "1\n"
          ]
        }
      ],
      "source": [
        "# @title ^=\n",
        "a=int(input())\n",
        "a ^= 3\n",
        "print(a)\n"
      ]
    },
    {
      "cell_type": "code",
      "execution_count": null,
      "metadata": {
        "colab": {
          "base_uri": "https://localhost:8080/"
        },
        "id": "fWWQTl7K3Tfc",
        "outputId": "842bb1c5-416e-4b0b-d4f5-11994151d57e"
      },
      "outputs": [
        {
          "name": "stdout",
          "output_type": "stream",
          "text": [
            "3\n",
            "0\n"
          ]
        }
      ],
      "source": [
        "# @title >>=\n",
        "a=int(input())\n",
        "a >>= 4\n",
        "print(a)\n"
      ]
    },
    {
      "cell_type": "code",
      "execution_count": null,
      "metadata": {
        "colab": {
          "base_uri": "https://localhost:8080/"
        },
        "id": "Je4rZR5d3TiT",
        "outputId": "3c536dce-4090-4e75-f6c6-4f530a2a6887"
      },
      "outputs": [
        {
          "name": "stdout",
          "output_type": "stream",
          "text": [
            "3\n",
            "48\n"
          ]
        }
      ],
      "source": [
        "# @title <<=\n",
        "a=int(input())\n",
        "a <<= 4\n",
        "print(a)\n"
      ]
    },
    {
      "cell_type": "code",
      "execution_count": null,
      "metadata": {
        "colab": {
          "base_uri": "https://localhost:8080/"
        },
        "id": "Ywio_rjx3Tku",
        "outputId": "9abc9915-f836-441e-8a6e-e45c7f0fd0e6"
      },
      "outputs": [
        {
          "name": "stdout",
          "output_type": "stream",
          "text": [
            "5\n",
            "3\n"
          ]
        }
      ],
      "source": [
        "# @title :=\n",
        "x=int(input())\n",
        "print(x := 3)\n"
      ]
    },
    {
      "cell_type": "markdown",
      "metadata": {
        "id": "bByH2gQp50Oq"
      },
      "source": [
        "**Comparison operators:** Comparison operators are used to compare two values:\n",
        "* Equal(==)\n",
        "* Not equal(!=)\n",
        "*  Greater than(>)\n",
        "* Less than(<)\n",
        "* Greater than or equal to(>=)\n",
        "* Less than or equal to(<=)"
      ]
    },
    {
      "cell_type": "code",
      "execution_count": null,
      "metadata": {
        "colab": {
          "base_uri": "https://localhost:8080/"
        },
        "id": "4hlL5gTw7BfU",
        "outputId": "d8c2c111-7c12-4f45-cee3-92d238f7d343"
      },
      "outputs": [
        {
          "name": "stdout",
          "output_type": "stream",
          "text": [
            "4\n",
            "4\n",
            "True\n"
          ]
        }
      ],
      "source": [
        "# @title Equal(==)\n",
        "a=int(input())\n",
        "b=int(input())\n",
        "print(a==b)\n"
      ]
    },
    {
      "cell_type": "code",
      "execution_count": null,
      "metadata": {
        "colab": {
          "base_uri": "https://localhost:8080/"
        },
        "id": "4EwVt_Kk7FM5",
        "outputId": "eb6555e9-6b0e-4805-946b-17dc85bd4b8d"
      },
      "outputs": [
        {
          "name": "stdout",
          "output_type": "stream",
          "text": [
            "4\n",
            "4\n",
            "False\n"
          ]
        }
      ],
      "source": [
        "# @title Not equal(!=)\n",
        "a=int(input())\n",
        "b=int(input())\n",
        "print(a!=b)\n"
      ]
    },
    {
      "cell_type": "code",
      "execution_count": null,
      "metadata": {
        "colab": {
          "base_uri": "https://localhost:8080/"
        },
        "id": "VbEqtISy7FTk",
        "outputId": "4807c44b-83e4-497c-e61c-d1ce5819461d"
      },
      "outputs": [
        {
          "name": "stdout",
          "output_type": "stream",
          "text": [
            "5\n",
            "3\n",
            "True\n"
          ]
        }
      ],
      "source": [
        "# @title Greater than(>)\n",
        "a=int(input())\n",
        "b=int(input())\n",
        "print(a>b)\n"
      ]
    },
    {
      "cell_type": "code",
      "execution_count": null,
      "metadata": {
        "colab": {
          "base_uri": "https://localhost:8080/"
        },
        "id": "R54JHTRq7FZU",
        "outputId": "32e648b4-d5a7-41e7-e5f9-b75fac220092"
      },
      "outputs": [
        {
          "name": "stdout",
          "output_type": "stream",
          "text": [
            "2\n",
            "3\n",
            "True\n"
          ]
        }
      ],
      "source": [
        "# @title Less than(<)\n",
        "a=int(input())\n",
        "b=int(input())\n",
        "print(a<b)\n"
      ]
    },
    {
      "cell_type": "code",
      "execution_count": null,
      "metadata": {
        "colab": {
          "base_uri": "https://localhost:8080/"
        },
        "id": "4kl9cXNR7Fe-",
        "outputId": "82c720aa-e293-4d4c-8931-d77ba9a1f61b"
      },
      "outputs": [
        {
          "name": "stdout",
          "output_type": "stream",
          "text": [
            "2\n",
            "5\n",
            "False\n"
          ]
        }
      ],
      "source": [
        "# @title Greater than or equal to(>=)\n",
        "a=int(input())\n",
        "b=int(input())\n",
        "print(a>=b)\n"
      ]
    },
    {
      "cell_type": "code",
      "execution_count": null,
      "metadata": {
        "colab": {
          "base_uri": "https://localhost:8080/"
        },
        "id": "do8udioB7FlG",
        "outputId": "b72a958a-4a20-40b7-8a88-4d611f7d78b7"
      },
      "outputs": [
        {
          "name": "stdout",
          "output_type": "stream",
          "text": [
            "2\n",
            "2\n",
            "True\n"
          ]
        }
      ],
      "source": [
        "# @title Less than or equal to(<=)\n",
        "a=int(input())\n",
        "b=int(input())\n",
        "print(a<=b)\n"
      ]
    },
    {
      "cell_type": "markdown",
      "metadata": {
        "id": "EZR7dc3K8NHB"
      },
      "source": [
        "**Logical Operators:**Logical operators are used to combine conditional statements:\n",
        "* and\n",
        "* or\n",
        "* not"
      ]
    },
    {
      "cell_type": "code",
      "execution_count": null,
      "metadata": {
        "colab": {
          "base_uri": "https://localhost:8080/"
        },
        "id": "4_aTL6Ro8iAo",
        "outputId": "b848d250-9d8b-457b-d3f6-800145d9ecc2"
      },
      "outputs": [
        {
          "name": "stdout",
          "output_type": "stream",
          "text": [
            "5\n",
            "True\n"
          ]
        }
      ],
      "source": [
        "# @title and\n",
        "x = int(input())\n",
        "\n",
        "print(x > 3 and x < 10)\n"
      ]
    },
    {
      "cell_type": "code",
      "execution_count": null,
      "metadata": {
        "colab": {
          "base_uri": "https://localhost:8080/"
        },
        "id": "pKcS9XgY8kcO",
        "outputId": "89cbace3-86ef-40fe-8968-7d9bdb379d54"
      },
      "outputs": [
        {
          "name": "stdout",
          "output_type": "stream",
          "text": [
            "2\n",
            "True\n"
          ]
        }
      ],
      "source": [
        "# @title or\n",
        "x = int(input())\n",
        "\n",
        "print(x > 3 or x < 10)\n",
        "\n"
      ]
    },
    {
      "cell_type": "code",
      "execution_count": null,
      "metadata": {
        "colab": {
          "base_uri": "https://localhost:8080/"
        },
        "id": "o1EGfUrF8kh6",
        "outputId": "58316fd8-c590-4c1b-c161-ef6cca991c57"
      },
      "outputs": [
        {
          "name": "stdout",
          "output_type": "stream",
          "text": [
            "5\n",
            "False\n"
          ]
        }
      ],
      "source": [
        "# @title not\n",
        "x = int(input())\n",
        "\n",
        "\n",
        "print(not(x > 3 and x < 10))\n"
      ]
    },
    {
      "cell_type": "markdown",
      "metadata": {
        "id": "WwqoBwcf9Dmg"
      },
      "source": [
        "**Identity Operators:**Identity operators are used to compare the objects, not if they are equal, but if they are actually the same object, with the same memory location:\n",
        "* is\n",
        "* is not"
      ]
    },
    {
      "cell_type": "code",
      "execution_count": null,
      "metadata": {
        "colab": {
          "base_uri": "https://localhost:8080/"
        },
        "id": "vrR4q71F9XR8",
        "outputId": "e2ff17ee-210d-48e8-ab91-99339de45499"
      },
      "outputs": [
        {
          "name": "stdout",
          "output_type": "stream",
          "text": [
            "True\n",
            "False\n",
            "True\n"
          ]
        }
      ],
      "source": [
        "# @title is\n",
        "x = [\"apple\", \"banana\"]\n",
        "y = [\"apple\", \"banana\"]\n",
        "z = x\n",
        "\n",
        "print(x is z)\n",
        "print(x is y)\n",
        "print(x == y)\n",
        "\n",
        "\n",
        "\n"
      ]
    },
    {
      "cell_type": "code",
      "execution_count": null,
      "metadata": {
        "colab": {
          "base_uri": "https://localhost:8080/"
        },
        "id": "ckESoK1U9ZKE",
        "outputId": "598b796b-1b12-433b-9997-4d053eb415ac"
      },
      "outputs": [
        {
          "name": "stdout",
          "output_type": "stream",
          "text": [
            "False\n",
            "True\n",
            "True\n"
          ]
        }
      ],
      "source": [
        "# @title is not\n",
        "x = [\"apple\", \"banana\"]\n",
        "y = [\"apple\", \"banana\"]\n",
        "z = x\n",
        "\n",
        "print(x is not z)\n",
        "print(x is not y)\n",
        "print(x == y)\n"
      ]
    },
    {
      "cell_type": "markdown",
      "metadata": {
        "id": "eF9tKS5Q92bj"
      },
      "source": [
        "**Membership Operators:**Membership operators are used to test if a sequence is presented in an object:\n",
        "* in\n",
        "* not in"
      ]
    },
    {
      "cell_type": "code",
      "execution_count": null,
      "metadata": {
        "colab": {
          "base_uri": "https://localhost:8080/"
        },
        "id": "ZyJ8ZZZJ-Bvi",
        "outputId": "fbf85c50-feeb-40b9-9d8b-1e4e3f775041"
      },
      "outputs": [
        {
          "name": "stdout",
          "output_type": "stream",
          "text": [
            "apple\n",
            "True\n"
          ]
        }
      ],
      "source": [
        "# @title in\n",
        "x = [\"apple\", \"banana\"]\n",
        "y=input()\n",
        "\n",
        "print(y in x)\n",
        "\n"
      ]
    },
    {
      "cell_type": "code",
      "execution_count": null,
      "metadata": {
        "colab": {
          "base_uri": "https://localhost:8080/"
        },
        "id": "xYz5Nr4G-DaG",
        "outputId": "b856f369-61cb-42d3-ed4c-354063ffbb83"
      },
      "outputs": [
        {
          "name": "stdout",
          "output_type": "stream",
          "text": [
            "apple\n",
            "False\n"
          ]
        }
      ],
      "source": [
        "# @title not in\n",
        "x = [\"apple\", \"banana\"]\n",
        "y=input()\n",
        "\n",
        "print(y not in x)\n"
      ]
    },
    {
      "cell_type": "markdown",
      "metadata": {
        "id": "lJ-b1FGd-WE4"
      },
      "source": [
        "**Bitwise Operators:**Bitwise operators are used to compare (binary) numbers:\n",
        "*  \tAND(&)\n",
        "*\tOR(|)\n",
        "*\tXOR(^)\n",
        "*\tNOT(~)\n",
        "*\tZero fill left shift(<<)\n",
        "*\tSigned right shift(>>)"
      ]
    },
    {
      "cell_type": "code",
      "execution_count": null,
      "metadata": {
        "colab": {
          "base_uri": "https://localhost:8080/"
        },
        "id": "vK_x-byt_DCn",
        "outputId": "aabf7029-d558-4731-ddd0-a2b90f964a87"
      },
      "outputs": [
        {
          "name": "stdout",
          "output_type": "stream",
          "text": [
            "6\n",
            "3\n",
            "2\n"
          ]
        }
      ],
      "source": [
        "# @title AND(&)\n",
        "a=int(input())\n",
        "b=int(input())\n",
        "print(a&b)\n"
      ]
    },
    {
      "cell_type": "code",
      "execution_count": null,
      "metadata": {
        "colab": {
          "base_uri": "https://localhost:8080/"
        },
        "id": "voWzuG5d_GRt",
        "outputId": "50bb9e72-5427-4d56-e052-003ea3cb462b"
      },
      "outputs": [
        {
          "name": "stdout",
          "output_type": "stream",
          "text": [
            "6\n",
            "3\n",
            "7\n"
          ]
        }
      ],
      "source": [
        "# @title OR(|)\n",
        "a=int(input())\n",
        "b=int(input())\n",
        "print(a|b)\n",
        "\n"
      ]
    },
    {
      "cell_type": "code",
      "execution_count": null,
      "metadata": {
        "colab": {
          "base_uri": "https://localhost:8080/"
        },
        "id": "qZk_1cV1_GXT",
        "outputId": "f1c80a7c-65f3-40a2-ae52-e65a08071069"
      },
      "outputs": [
        {
          "name": "stdout",
          "output_type": "stream",
          "text": [
            "6\n",
            "3\n",
            "5\n"
          ]
        }
      ],
      "source": [
        "# @title XOR(^)\n",
        "a=int(input())\n",
        "b=int(input())\n",
        "print(a^b)\n",
        "\n"
      ]
    },
    {
      "cell_type": "code",
      "execution_count": null,
      "metadata": {
        "colab": {
          "base_uri": "https://localhost:8080/"
        },
        "id": "EvAgOLhV_Gcg",
        "outputId": "4f19356a-9df1-4139-8c5c-4513523a6e7a"
      },
      "outputs": [
        {
          "name": "stdout",
          "output_type": "stream",
          "text": [
            "6\n",
            "3\n",
            "48\n"
          ]
        }
      ],
      "source": [
        "# @title *\tZero fill left shift(<<)\n",
        "a=int(input())\n",
        "b=int(input())\n",
        "print(a<<b)\n",
        "\n",
        "\n"
      ]
    },
    {
      "cell_type": "code",
      "execution_count": null,
      "metadata": {
        "colab": {
          "base_uri": "https://localhost:8080/"
        },
        "id": "Y0wJOqRy_GiW",
        "outputId": "5c320d68-8acf-4518-c5d9-b5a8055396f9"
      },
      "outputs": [
        {
          "name": "stdout",
          "output_type": "stream",
          "text": [
            "6\n",
            "3\n",
            "0\n"
          ]
        }
      ],
      "source": [
        "# *\tSigned right shift(>>)\n",
        "a=int(input())\n",
        "b=int(input())\n",
        "print(a>>b)\n",
        "\n",
        "\n"
      ]
    },
    {
      "cell_type": "code",
      "execution_count": null,
      "metadata": {
        "colab": {
          "base_uri": "https://localhost:8080/"
        },
        "id": "fgepu5Q5_GoG",
        "outputId": "69da0bc1-1b86-4402-a08b-f5aa8c0ec878"
      },
      "outputs": [
        {
          "name": "stdout",
          "output_type": "stream",
          "text": [
            "5\n",
            "-6\n"
          ]
        }
      ],
      "source": [
        "# @title NOT(~)\n",
        "a=int(input())\n",
        "\n",
        "print(~a)\n",
        "\n"
      ]
    },
    {
      "cell_type": "markdown",
      "metadata": {
        "id": "RyNRZp5GCyis"
      },
      "source": [
        "**List**\n",
        "Lists are used to store multiple items in a single variable.\n",
        "\n",
        "Lists are one of 4 built-in data types in Python used to store collections of data, the other 3 are Tuple, Set, and Dictionary, all with different qualities and usage.\n",
        "\n",
        "Lists are created using square brackets:"
      ]
    },
    {
      "cell_type": "code",
      "execution_count": null,
      "metadata": {
        "colab": {
          "base_uri": "https://localhost:8080/"
        },
        "id": "_O92yDuUE3oI",
        "outputId": "46dfef97-0d88-4090-b6f9-9e7f78574531"
      },
      "outputs": [
        {
          "name": "stdout",
          "output_type": "stream",
          "text": [
            "['apple', 'banana', 'cherry']\n"
          ]
        }
      ],
      "source": [
        "# ExampleGet your own Python Server\n",
        "# Create a List:\n",
        "\n",
        "l = [\"apple\", \"banana\", \"cherry\"]\n",
        "print(l)"
      ]
    },
    {
      "cell_type": "markdown",
      "metadata": {
        "id": "8nJfndZ2FMIq"
      },
      "source": [
        "**List Items:**\n",
        "* List items are ordered, changeable, and allow duplicate values.\n",
        "\n",
        "* List items are indexed, the first item has index [0], the second item has index [1] etc.\n",
        "* List items can be of any data type\n",
        "*list1 = [\"abc\", 34, True, 40, \"male\"]*\n",
        "\n",
        "**Ordered:**\n",
        "* When we say that lists are ordered, it means that the items have a defined order, and that order will not change.\n",
        "\n",
        "* If you add new items to a list, the new items will be placed at the end of the list.\n",
        "\n",
        "**Changeable:**\n",
        "* The list is changeable, meaning that we can change, add, and remove items in a list after it has been created.\n",
        "\n",
        "**Allow Duplicates:**\n",
        "* Since lists are indexed, lists can have items with the same value.\n",
        "**type():**\n",
        "From Python's perspective, lists are defined as objects with the data type 'list':\n",
        "\n",
        "<class 'list'>\n",
        "\n",
        "**list() Constructor:**\n",
        "* It is also possible to use the list() constructor when creating a new list.\n",
        "\n",
        "Example\n",
        "Using the list() constructor to make a List:\n",
        "\n",
        "thislist = list((\"apple\", \"banana\", \"cherry\")) # note the double round-brackets\n",
        "\n",
        "print(thislist)\n",
        "List Methods\n",
        "Python has a set of built-in methods that you can use on lists.\n",
        "\n",
        "**List Methods:**\n",
        "* append()\t- Adds an element at the end of the list\n",
        "* clear()\tRemoves all the elements from the list\n",
        "* copy()\tReturns a copy of the list\n",
        "* count()\tReturns the number of elements with the specified value\n",
        "* extend()\tAdd the elements of a list (or any iterable), to the end of the current list\n",
        "* index()\tReturns the index of the first element with the specified value\n",
        "* insert()\tAdds an element at the specified position\n",
        "* pop()\tRemoves the element at the specified position\n",
        "* remove()\tRemoves the item with the specified value\n",
        "* reverse()\tReverses the order of the list\n",
        "* sort()\tSorts the list"
      ]
    },
    {
      "cell_type": "code",
      "execution_count": null,
      "metadata": {
        "colab": {
          "base_uri": "https://localhost:8080/"
        },
        "id": "wvOUuPDcHYcG",
        "outputId": "0b0411f4-6e58-4ee9-b71e-d8a8fd66efb3"
      },
      "outputs": [
        {
          "name": "stdout",
          "output_type": "stream",
          "text": [
            "['apple', 'banana', 'cherry', 'orange']\n"
          ]
        }
      ],
      "source": [
        "\n",
        "# @title append\n",
        "l = [\"apple\", \"banana\", \"cherry\"]\n",
        "l.append(\"orange\")\n",
        "print(l)\n",
        "\n"
      ]
    },
    {
      "cell_type": "code",
      "execution_count": null,
      "metadata": {
        "colab": {
          "base_uri": "https://localhost:8080/"
        },
        "id": "PTEjx67-H0Co",
        "outputId": "3b1a89ba-0e40-4217-9c8d-cf6d31120125"
      },
      "outputs": [
        {
          "name": "stdout",
          "output_type": "stream",
          "text": [
            "['orange', 'banana', 'cherry']\n"
          ]
        }
      ],
      "source": [
        "l = [\"apple\", \"banana\", \"cherry\"]\n",
        "l[0]=\"orange\"\n",
        "print(l)"
      ]
    },
    {
      "cell_type": "code",
      "execution_count": null,
      "metadata": {
        "colab": {
          "base_uri": "https://localhost:8080/"
        },
        "id": "gIv6d2eZH0HR",
        "outputId": "a4a3c2d3-0c81-4944-8ca9-933f41678083"
      },
      "outputs": [
        {
          "name": "stdout",
          "output_type": "stream",
          "text": [
            "[]\n"
          ]
        }
      ],
      "source": [
        "# @title clear\n",
        "l = ['apple', 'banana', 'cherry', 'orange']\n",
        "\n",
        "l.clear()\n",
        "print(l)"
      ]
    },
    {
      "cell_type": "code",
      "execution_count": null,
      "metadata": {
        "colab": {
          "base_uri": "https://localhost:8080/"
        },
        "id": "0WuCtVxyH0LO",
        "outputId": "c0a5b19c-13b8-4a8d-f31b-3b44ca0faa4f"
      },
      "outputs": [
        {
          "name": "stdout",
          "output_type": "stream",
          "text": [
            "['apple', 'orange', 'banana', 'cherry']\n"
          ]
        }
      ],
      "source": [
        "# @title insert\n",
        "l = [\"apple\", \"banana\", \"cherry\"]\n",
        "l.insert(1, \"orange\")\n",
        "print(l)\n"
      ]
    },
    {
      "cell_type": "code",
      "execution_count": null,
      "metadata": {
        "colab": {
          "base_uri": "https://localhost:8080/"
        },
        "id": "5eNVMFyhH0PD",
        "outputId": "ca814d8b-98aa-4092-933f-e453d5be0181"
      },
      "outputs": [
        {
          "name": "stdout",
          "output_type": "stream",
          "text": [
            "['apple', 'blackcurrant', 'watermelon', 'cherry']\n"
          ]
        }
      ],
      "source": [
        "# @title Change the second value by replacing it with two new values:\n",
        "\n",
        "l = [\"apple\", \"banana\", \"cherry\"]\n",
        "l[1:2] = [\"blackcurrant\", \"watermelon\"]\n",
        "print(l)"
      ]
    },
    {
      "cell_type": "code",
      "execution_count": null,
      "metadata": {
        "colab": {
          "base_uri": "https://localhost:8080/"
        },
        "id": "JDF56xmkH0S0",
        "outputId": "acfb7ea2-3ea1-4417-efe6-888724c82702"
      },
      "outputs": [
        {
          "name": "stdout",
          "output_type": "stream",
          "text": [
            "['apple', 'banana', 'cherry']\n"
          ]
        }
      ],
      "source": [
        "# @title copy() method:\n",
        "\n",
        "l = [\"apple\", \"banana\", \"cherry\"]\n",
        "l1 = l.copy()\n",
        "print(l1)\n"
      ]
    },
    {
      "cell_type": "code",
      "execution_count": null,
      "metadata": {
        "colab": {
          "base_uri": "https://localhost:8080/"
        },
        "id": "KW-h8D22H0V4",
        "outputId": "66d8716e-aefe-4a8e-d3be-a64e3688ba83"
      },
      "outputs": [
        {
          "name": "stdout",
          "output_type": "stream",
          "text": [
            "2\n"
          ]
        }
      ],
      "source": [
        "# @title count\n",
        "l = ['apple', 'banana', 'cherry',\"cherry\"]\n",
        "\n",
        "x = l.count(\"cherry\")\n",
        "print(x)"
      ]
    },
    {
      "cell_type": "code",
      "execution_count": null,
      "metadata": {
        "colab": {
          "base_uri": "https://localhost:8080/"
        },
        "id": "YPhRElcpH0Yk",
        "outputId": "b77eaa05-84be-4972-c026-2bf5053faea7"
      },
      "outputs": [
        {
          "name": "stdout",
          "output_type": "stream",
          "text": [
            "['apple', 'banana', 'cherry', 'Ford', 'BMW', 'Volvo']\n"
          ]
        }
      ],
      "source": [
        "# @title extend\n",
        "l = ['apple', 'banana', 'cherry']\n",
        "\n",
        "l1 = ['Ford', 'BMW', 'Volvo']\n",
        "\n",
        "l.extend(l1)\n",
        "print(l)"
      ]
    },
    {
      "cell_type": "code",
      "execution_count": null,
      "metadata": {
        "colab": {
          "base_uri": "https://localhost:8080/"
        },
        "id": "t_m4LkO9H0bG",
        "outputId": "b24fac8f-1115-4539-d2d9-a5ff7b6adef0"
      },
      "outputs": [
        {
          "name": "stdout",
          "output_type": "stream",
          "text": [
            "1\n"
          ]
        }
      ],
      "source": [
        "# @title index\n",
        "Animals= [\"cat\", \"dog\", \"tiger\"]\n",
        "\n",
        "print(Animals.index(\"dog\"))\n"
      ]
    },
    {
      "cell_type": "code",
      "execution_count": null,
      "metadata": {
        "colab": {
          "base_uri": "https://localhost:8080/"
        },
        "id": "UYkHhO0ZH0dg",
        "outputId": "9bf06d8a-e5a3-48ea-e3fa-f7c87dc29c08"
      },
      "outputs": [
        {
          "name": "stdout",
          "output_type": "stream",
          "text": [
            "['apple', 'cherry']\n"
          ]
        }
      ],
      "source": [
        "# @title pop\n",
        "l = ['apple', 'banana', 'cherry']\n",
        "\n",
        "l.pop(1)\n",
        "print(l)"
      ]
    },
    {
      "cell_type": "code",
      "execution_count": null,
      "metadata": {
        "colab": {
          "base_uri": "https://localhost:8080/"
        },
        "id": "7No4e6YDPq1G",
        "outputId": "b3f7c9c6-34ef-44df-96f5-96120352231b"
      },
      "outputs": [
        {
          "name": "stdout",
          "output_type": "stream",
          "text": [
            "['apple', 'banana']\n"
          ]
        }
      ],
      "source": [
        "l = ['apple', 'banana', 'cherry']\n",
        "\n",
        "l.pop()\n",
        "print(l)"
      ]
    },
    {
      "cell_type": "code",
      "execution_count": null,
      "metadata": {
        "colab": {
          "base_uri": "https://localhost:8080/"
        },
        "id": "28C1W3InH0fl",
        "outputId": "ea74bcdf-3813-49d9-d82e-476d465c6319"
      },
      "outputs": [
        {
          "name": "stdout",
          "output_type": "stream",
          "text": [
            "['apple', 'cherry']\n"
          ]
        }
      ],
      "source": [
        "# @title remove\n",
        "l = ['apple', 'banana', 'cherry']\n",
        "\n",
        "l.remove(\"banana\")\n",
        "print(l)"
      ]
    },
    {
      "cell_type": "code",
      "execution_count": null,
      "metadata": {
        "colab": {
          "base_uri": "https://localhost:8080/"
        },
        "id": "dSQr9nh_H0kp",
        "outputId": "c1d107f8-c84a-4a12-91ab-3661363c0ebe"
      },
      "outputs": [
        {
          "name": "stdout",
          "output_type": "stream",
          "text": [
            "['BMW', 'bolero', 'swift', 'nano']\n"
          ]
        }
      ],
      "source": [
        "# @title reverse\n",
        "l = [\"nano\", \"swift\", \"bolero\", \"BMW\"]\n",
        "l1 = list(reversed(l))\n",
        "print(l1)"
      ]
    },
    {
      "cell_type": "code",
      "execution_count": null,
      "metadata": {
        "colab": {
          "base_uri": "https://localhost:8080/"
        },
        "id": "Rst3PI84Qd51",
        "outputId": "ca72135c-179b-47cc-cc94-bf4600675f40"
      },
      "outputs": [
        {
          "name": "stdout",
          "output_type": "stream",
          "text": [
            "['BMW', 'bolero', 'swift', 'nano']\n"
          ]
        }
      ],
      "source": [
        "l = [\"nano\", \"swift\", \"bolero\", \"BMW\"]\n",
        "print(l[::-1])"
      ]
    },
    {
      "cell_type": "code",
      "execution_count": null,
      "metadata": {
        "colab": {
          "base_uri": "https://localhost:8080/"
        },
        "id": "srM3sCSnH0m_",
        "outputId": "05bc00a5-430d-4083-d961-0588a0a40081"
      },
      "outputs": [
        {
          "name": "stdout",
          "output_type": "stream",
          "text": [
            "[2, 4, 5, 5, 6, 32, 42, 255]\n"
          ]
        }
      ],
      "source": [
        "# @title sort\n",
        "list = [2,4,5,32,6,255,5,42]\n",
        "list.sort()\n",
        "print(list)"
      ]
    },
    {
      "cell_type": "markdown",
      "metadata": {
        "id": "W74Zf41UpIbe"
      },
      "source": []
    },
    {
      "cell_type": "markdown",
      "metadata": {
        "id": "fbbGvAlfi_IA"
      },
      "source": [
        "**Arithmetic Operators:**\n",
        "Arithmetic operators are used with numeric values to perform common mathematical operations:\n",
        "* Addition(+)\n",
        "* Subtraction(-)\n",
        "*\tMultiplication(*)\n",
        "* Division(/)\n",
        "* Modulus(%)\n",
        "* Exponentiation\t(**)\n",
        "*\tFloor division(//)"
      ]
    },
    {
      "cell_type": "markdown",
      "metadata": {
        "id": "dQwaDlykRchE"
      },
      "source": [
        "**Strings:**\n",
        " Collection of characters\n",
        "\n",
        "\n",
        "Strings in python are surrounded by either single quotation marks, or double quotation marks.\n",
        "\n",
        "\n",
        "'hello' is the same as \"hello\".\n",
        "\n",
        "You can display a string literal with the print() function:\n",
        "\n",
        "**Example 1:**\n",
        "Get your own Python Server\n",
        "\n",
        "print(\"Hello\")\n",
        "\n",
        "print('Hello')\n",
        "**Example 2:**\n",
        "a = \"Hello\"\n",
        "\n",
        "print(a)\n",
        "\n",
        "\n",
        "**String Methods:**Python has a set of built-in methods that you can use on strings.\n",
        "\n",
        "* capitalize()\t- Converts the first character to upper case\n",
        "* casefold()\t- Converts string into lower case\n",
        "* center()-\tReturns a centered string\n",
        "* count()-\tReturns the number of times a specified value occurs in a string\n",
        "* encode()-\tReturns an encoded version of the string\n",
        "* endswith()-\tReturns true if the string ends with the specified value\n",
        "* expandtabs()-\tSets the tab size of the string\n",
        "* find()\t-Searches the string for a specified value and returns the position where it was found\n",
        "* format()-\tFormats specified values in a string\n",
        "* format_map()-\tFormats specified values in a string\n",
        "* index()-\tSearches the string for a specified value and returns the position of where it was found\n",
        "* isalnum()-\tReturns True if all characters in the string are alphanumeric\n",
        "* isalpha()-\tReturns True if all characters in the string are in the alphabet\n",
        "* isascii()-\tReturns True if all characters in the string are ascii characters\n",
        "* isdecimal()-\tReturns True if all characters in the string are decimals\n",
        "* isdigit()\t-Returns True if all characters in the string are digits\n",
        "* isidentifier()-\tReturns True if the string is an identifier\n",
        "* islower()-\tReturns True if all characters in the string are lower case\n",
        "* isnumeric()-\tReturns True if all characters in the string are numeric\n",
        "* isprintable()-\tReturns True if all characters in the string are printable\n",
        "* isspace()-\tReturns True if all characters in the string are whitespaces\n",
        "* istitle()-\tReturns True if the string follows the rules of a title\n",
        "* isupper()\t-Returns True if all characters in the string are upper case\n",
        "* join()-\tConverts the elements of an iterable into a string\n",
        "* ljust()-\tReturns a left justified version of the string\n",
        "* lower()-\tConverts a string into lower case\n",
        "* lstrip()\t-Returns a left trim version of the string\n",
        "* maketrans()-\tReturns a translation table to be used in translations\n",
        "* partition()-\tReturns a tuple where the string is parted into three parts\n",
        "* replace()-\tReturns a string where a specified value is replaced with a specified value\n",
        "* rfind()-\tSearches the string for a specified value and returns the last position of where it was found\n",
        "* rindex()-\tSearches the string for a specified value and returns the last position of where it was found\n",
        "* rjust()-\tReturns a right justified version of the string\n",
        "* rpartition()-\tReturns a tuple where the string is parted into three parts\n",
        "* rsplit()\t-Splits the string at the specified separator, and returns a list\n",
        "* rstrip()-\tReturns a right trim version of the string\n",
        "* split()\t-Splits the string at the specified separator, and returns a list\n",
        "* splitlines()\t-Splits the string at line breaks and returns a list\n",
        "* startswith()\t-Returns true if the string starts with the specified value\n",
        "* strip()\t-Returns a trimmed version of the string\n",
        "* swapcase()-\tSwaps cases, lower case becomes upper case and vice versa\n",
        "* title()\t-Converts the first character of each word to upper case\n",
        "* translate()-\tReturns a translated string\n",
        "* upper()\t-Converts a string into upper case\n",
        "* zfill()-\tFills the string with a specified number of 0 values at the beginning"
      ]
    },
    {
      "cell_type": "code",
      "source": [
        "# @title capitalize\n",
        "M = \"hello, and welcome to my world.\"\n",
        "\n",
        "N = M.capitalize()\n",
        "\n",
        "print (N)\n"
      ],
      "metadata": {
        "colab": {
          "base_uri": "https://localhost:8080/"
        },
        "cellView": "form",
        "id": "RTJc1ZT_4NOL",
        "outputId": "61a86d50-47db-4c0e-e14b-7959ef06a0a2"
      },
      "execution_count": null,
      "outputs": [
        {
          "output_type": "stream",
          "name": "stdout",
          "text": [
            "Hello, and welcome to my world.\n"
          ]
        }
      ]
    },
    {
      "cell_type": "code",
      "source": [
        "# @title Casefold\n",
        "M = \"Hello, And Welcome To My World!\"\n",
        "\n",
        "x = M.casefold()\n",
        "\n",
        "print(x)\n",
        "\n"
      ],
      "metadata": {
        "colab": {
          "base_uri": "https://localhost:8080/"
        },
        "cellView": "form",
        "id": "gPB7qLXP4WxB",
        "outputId": "92b8b705-e1ba-47b3-c90d-c15a5c75e388"
      },
      "execution_count": null,
      "outputs": [
        {
          "output_type": "stream",
          "name": "stdout",
          "text": [
            "hello, and welcome to my world!\n"
          ]
        }
      ]
    },
    {
      "cell_type": "code",
      "source": [
        "# @title center\n",
        "M = \"banana\"\n",
        "x = M.center(20)\n",
        "print(x)"
      ],
      "metadata": {
        "colab": {
          "base_uri": "https://localhost:8080/"
        },
        "cellView": "form",
        "id": "K-6MU_ME4W3B",
        "outputId": "68cbb454-2f81-4215-a506-3b330612e362"
      },
      "execution_count": null,
      "outputs": [
        {
          "output_type": "stream",
          "name": "stdout",
          "text": [
            "       banana       \n"
          ]
        }
      ]
    },
    {
      "cell_type": "code",
      "source": [
        "# @title count\n",
        "N = ['cherry','apple','cherry', 'banana', 'cherry']\n",
        "\n",
        "x = N.count(\"cherry\")\n",
        "print(x)\n"
      ],
      "metadata": {
        "colab": {
          "base_uri": "https://localhost:8080/"
        },
        "cellView": "form",
        "id": "fs1dW_D74W9K",
        "outputId": "3671100b-9611-43ff-a853-2cee6fcea9a1"
      },
      "execution_count": null,
      "outputs": [
        {
          "output_type": "stream",
          "name": "stdout",
          "text": [
            "3\n"
          ]
        }
      ]
    },
    {
      "cell_type": "code",
      "source": [
        "# @title encode\n",
        "M = \"My name is Ståle\"\n",
        "x = M.encode()\n",
        "print(x)\n"
      ],
      "metadata": {
        "colab": {
          "base_uri": "https://localhost:8080/"
        },
        "cellView": "form",
        "id": "VIzZS-GP4XDZ",
        "outputId": "450237e7-ea33-4138-f5e4-45bf25095219"
      },
      "execution_count": null,
      "outputs": [
        {
          "output_type": "stream",
          "name": "stdout",
          "text": [
            "b'My name is St\\xc3\\xa5le'\n"
          ]
        }
      ]
    },
    {
      "cell_type": "code",
      "source": [
        "# @title endswith\n",
        "M = \"Hello, welcome to my world.\"\n",
        "N = M.endswith(\"@\")\n",
        "print(N)\n"
      ],
      "metadata": {
        "colab": {
          "base_uri": "https://localhost:8080/"
        },
        "cellView": "form",
        "id": "ottO3B3e4XJT",
        "outputId": "d1dd08eb-e65c-4db0-93fa-72f406995213"
      },
      "execution_count": null,
      "outputs": [
        {
          "output_type": "stream",
          "name": "stdout",
          "text": [
            "False\n"
          ]
        }
      ]
    },
    {
      "cell_type": "code",
      "source": [
        "M = \"Hello, welcome to my world.\"\n",
        "N = M.endswith(\".\")\n",
        "print(N)\n"
      ],
      "metadata": {
        "colab": {
          "base_uri": "https://localhost:8080/"
        },
        "id": "UVnrTBnA4XPK",
        "outputId": "d94377fa-0502-4b9e-8505-b5462f4d9889"
      },
      "execution_count": null,
      "outputs": [
        {
          "output_type": "stream",
          "name": "stdout",
          "text": [
            "True\n"
          ]
        }
      ]
    },
    {
      "cell_type": "code",
      "source": [
        "# @title expandtabs\n",
        "M = \"H\\te\\tl\\tl\\to\"\n",
        "\n",
        "N =  M.expandtabs(2)\n",
        "\n",
        "print(N)\n"
      ],
      "metadata": {
        "colab": {
          "base_uri": "https://localhost:8080/"
        },
        "cellView": "form",
        "id": "gHhDZYUs4XVP",
        "outputId": "96f95d33-d900-4ea1-e925-5b6155dcf87f"
      },
      "execution_count": null,
      "outputs": [
        {
          "output_type": "stream",
          "name": "stdout",
          "text": [
            "H e l l o\n"
          ]
        }
      ]
    },
    {
      "cell_type": "code",
      "source": [
        "# @title find\n",
        "M = \"Hello, welcome to my world.\"\n",
        "N = M.find(\"welcome\")\n",
        "print(N)\n",
        "\n"
      ],
      "metadata": {
        "colab": {
          "base_uri": "https://localhost:8080/"
        },
        "cellView": "form",
        "id": "40lWCalN4Xbq",
        "outputId": "3811db30-563a-432d-bebb-140d3d4fad8c"
      },
      "execution_count": null,
      "outputs": [
        {
          "output_type": "stream",
          "name": "stdout",
          "text": [
            "7\n"
          ]
        }
      ]
    },
    {
      "cell_type": "code",
      "source": [
        "# @title format\n",
        "M = \"For only {price:.2f} dollars!\"\n",
        "print(M.format(price = 49))\n"
      ],
      "metadata": {
        "colab": {
          "base_uri": "https://localhost:8080/"
        },
        "cellView": "form",
        "id": "_skAdR5n4XjO",
        "outputId": "f323b9a0-3afe-4b35-bf09-6ee48a5e248b"
      },
      "execution_count": null,
      "outputs": [
        {
          "output_type": "stream",
          "name": "stdout",
          "text": [
            "For only 49.00 dollars!\n"
          ]
        }
      ]
    },
    {
      "cell_type": "code",
      "source": [
        "M = \"For only {price} dollars!\"\n",
        "print(M.format(price = 49))\n"
      ],
      "metadata": {
        "colab": {
          "base_uri": "https://localhost:8080/"
        },
        "id": "yHbDmsoZ4XqD",
        "outputId": "e94380d8-9ce4-4d77-ba18-91952168d218"
      },
      "execution_count": null,
      "outputs": [
        {
          "output_type": "stream",
          "name": "stdout",
          "text": [
            "For only 49 dollars!\n"
          ]
        }
      ]
    },
    {
      "cell_type": "code",
      "source": [
        "# @title index\n",
        "M= [\"cat\", \"dog\", \"tiger\"]\n",
        "print(M.index(\"dog\"))\n"
      ],
      "metadata": {
        "colab": {
          "base_uri": "https://localhost:8080/"
        },
        "cellView": "form",
        "id": "5-iXMn8X4XwL",
        "outputId": "044c3d64-0130-4807-aac7-9f72aa05e97b"
      },
      "execution_count": null,
      "outputs": [
        {
          "output_type": "stream",
          "name": "stdout",
          "text": [
            "1\n"
          ]
        }
      ]
    },
    {
      "cell_type": "code",
      "source": [
        "# @title isalnum\n",
        "M = \"Company12\"\n",
        "\n",
        "x = M.isalnum()\n",
        "\n",
        "print(x)\n"
      ],
      "metadata": {
        "colab": {
          "base_uri": "https://localhost:8080/"
        },
        "cellView": "form",
        "id": "1RyUk7IC4X2a",
        "outputId": "8c6dd855-4bf9-43e2-fddb-00d117ff2346"
      },
      "execution_count": null,
      "outputs": [
        {
          "output_type": "stream",
          "name": "stdout",
          "text": [
            "True\n"
          ]
        }
      ]
    },
    {
      "cell_type": "code",
      "source": [
        "M = \"2435461$\"\n",
        "\n",
        "x = M.isalnum()\n",
        "\n",
        "print(x)\n"
      ],
      "metadata": {
        "colab": {
          "base_uri": "https://localhost:8080/"
        },
        "id": "6SkKun5k4X8W",
        "outputId": "8bb161b7-3f89-4de0-d632-64d60470030e"
      },
      "execution_count": null,
      "outputs": [
        {
          "output_type": "stream",
          "name": "stdout",
          "text": [
            "False\n"
          ]
        }
      ]
    },
    {
      "cell_type": "code",
      "source": [
        "# @title isalpha\n",
        "M = \"CompanyX\"\n",
        "\n",
        "x = M.isalpha()\n",
        "\n",
        "print(x)\n"
      ],
      "metadata": {
        "colab": {
          "base_uri": "https://localhost:8080/"
        },
        "cellView": "form",
        "id": "8WrVyEYz4YCC",
        "outputId": "8cf9c485-adca-4705-c5d2-3f59e469dcf1"
      },
      "execution_count": null,
      "outputs": [
        {
          "output_type": "stream",
          "name": "stdout",
          "text": [
            "True\n"
          ]
        }
      ]
    },
    {
      "cell_type": "code",
      "source": [
        "M = \"Com11panyX\"\n",
        "\n",
        "x = M.isalpha()\n",
        "\n",
        "print(x)\n"
      ],
      "metadata": {
        "colab": {
          "base_uri": "https://localhost:8080/"
        },
        "id": "s98fd1Dk4YIC",
        "outputId": "f5d0aea3-9781-4a41-f358-54384229000b"
      },
      "execution_count": null,
      "outputs": [
        {
          "output_type": "stream",
          "name": "stdout",
          "text": [
            "False\n"
          ]
        }
      ]
    },
    {
      "cell_type": "code",
      "source": [
        "# @title isascii\n",
        "M = \"Company123\"\n",
        "\n",
        "x = M.isascii()\n",
        "\n",
        "print(x)\n",
        "\n"
      ],
      "metadata": {
        "colab": {
          "base_uri": "https://localhost:8080/"
        },
        "id": "c_eYcrIM4YNn",
        "outputId": "13059533-88f3-4aa0-c73f-0dc16e656071"
      },
      "execution_count": null,
      "outputs": [
        {
          "output_type": "stream",
          "name": "stdout",
          "text": [
            "True\n"
          ]
        }
      ]
    },
    {
      "cell_type": "code",
      "source": [
        "# @title isdecimal\n",
        "M = \"1234\"\n",
        "x = M.isdecimal()\n",
        "print(x)\n"
      ],
      "metadata": {
        "colab": {
          "base_uri": "https://localhost:8080/"
        },
        "id": "qYiJ2Exz4YTV",
        "outputId": "d8e6cd68-f4fc-49aa-ad61-509897ae2e94"
      },
      "execution_count": null,
      "outputs": [
        {
          "output_type": "stream",
          "name": "stdout",
          "text": [
            "True\n"
          ]
        }
      ]
    },
    {
      "cell_type": "code",
      "source": [
        "M = \"1P234\"\n",
        "x = M.isdecimal()\n",
        "print(x)\n"
      ],
      "metadata": {
        "colab": {
          "base_uri": "https://localhost:8080/"
        },
        "id": "sxEhtD-14YZR",
        "outputId": "07ab8efb-13c1-4a97-c244-1bee126febea"
      },
      "execution_count": null,
      "outputs": [
        {
          "output_type": "stream",
          "name": "stdout",
          "text": [
            "False\n"
          ]
        }
      ]
    },
    {
      "cell_type": "code",
      "source": [
        "# @title isdigit\n",
        "M = \"50800\"\n",
        "x = M.isdigit()\n",
        "print(x)\n"
      ],
      "metadata": {
        "colab": {
          "base_uri": "https://localhost:8080/"
        },
        "id": "DRcnYZ2x4YfQ",
        "outputId": "c6e9776b-5304-4dd7-e75e-a9641b666042"
      },
      "execution_count": null,
      "outputs": [
        {
          "output_type": "stream",
          "name": "stdout",
          "text": [
            "True\n"
          ]
        }
      ]
    },
    {
      "cell_type": "code",
      "source": [
        "M = \"50HG800\"\n",
        "x = M.isdigit()\n",
        "print(x)\n"
      ],
      "metadata": {
        "colab": {
          "base_uri": "https://localhost:8080/"
        },
        "id": "NgzBQTqT4Ykc",
        "outputId": "f1bd2eab-fcdf-4605-d5b2-86d29cfb7995"
      },
      "execution_count": null,
      "outputs": [
        {
          "output_type": "stream",
          "name": "stdout",
          "text": [
            "False\n"
          ]
        }
      ]
    },
    {
      "cell_type": "code",
      "source": [
        "# @title isidentifier\n",
        "M= \"Demo\"\n",
        "x = M.isidentifier()\n",
        "print(x)\n"
      ],
      "metadata": {
        "colab": {
          "base_uri": "https://localhost:8080/"
        },
        "id": "XZCSK8G894WD",
        "outputId": "0dcdb7dd-1772-4626-dc4d-487cb85ffd98"
      },
      "execution_count": null,
      "outputs": [
        {
          "output_type": "stream",
          "name": "stdout",
          "text": [
            "True\n"
          ]
        }
      ]
    },
    {
      "cell_type": "code",
      "source": [
        "M = \"123MOHAN\"\n",
        "x = M.isidentifier()\n",
        "\n",
        "print(x)\n"
      ],
      "metadata": {
        "colab": {
          "base_uri": "https://localhost:8080/"
        },
        "id": "b3qWIld099qE",
        "outputId": "3f6f0e3b-28a8-47d9-b790-f2824340a2ca"
      },
      "execution_count": null,
      "outputs": [
        {
          "output_type": "stream",
          "name": "stdout",
          "text": [
            "False\n"
          ]
        }
      ]
    },
    {
      "cell_type": "code",
      "source": [
        "# @title islower\n",
        "M = \"hello world!\"\n",
        "x = M.islower()\n",
        "print(x)\n",
        "\n"
      ],
      "metadata": {
        "colab": {
          "base_uri": "https://localhost:8080/"
        },
        "id": "9_1Ut2GC97Vt",
        "outputId": "7f80b0bc-89aa-44c6-e327-f2bea272d371"
      },
      "execution_count": null,
      "outputs": [
        {
          "output_type": "stream",
          "name": "stdout",
          "text": [
            "True\n"
          ]
        }
      ]
    },
    {
      "cell_type": "code",
      "source": [
        "M = \"Mhello world!\"\n",
        "x = M.islower()\n",
        "print(x)\n"
      ],
      "metadata": {
        "colab": {
          "base_uri": "https://localhost:8080/"
        },
        "id": "YT87ntaI97aI",
        "outputId": "8e73d9cc-38d5-480c-aac2-cc67c75d0b31"
      },
      "execution_count": null,
      "outputs": [
        {
          "output_type": "stream",
          "name": "stdout",
          "text": [
            "False\n"
          ]
        }
      ]
    },
    {
      "cell_type": "code",
      "source": [
        "# @title isnumeric\n",
        "t = \"565543\"\n",
        "\n",
        "x = t.isnumeric()\n",
        "\n",
        "print(x)\n"
      ],
      "metadata": {
        "colab": {
          "base_uri": "https://localhost:8080/"
        },
        "id": "dQDMJy_l97db",
        "outputId": "65008fd7-885d-484d-f1bd-8162a3d1ec32"
      },
      "execution_count": null,
      "outputs": [
        {
          "output_type": "stream",
          "name": "stdout",
          "text": [
            "True\n"
          ]
        }
      ]
    },
    {
      "cell_type": "code",
      "source": [
        "t= \"iujisld565543\"\n",
        "\n",
        "x = t.isnumeric()\n",
        "\n",
        "print(x)\n"
      ],
      "metadata": {
        "colab": {
          "base_uri": "https://localhost:8080/"
        },
        "id": "z7u_bIIe97g2",
        "outputId": "58e3c8d5-183d-4b68-ce7a-f3f981b954a1"
      },
      "execution_count": null,
      "outputs": [
        {
          "output_type": "stream",
          "name": "stdout",
          "text": [
            "False\n"
          ]
        }
      ]
    },
    {
      "cell_type": "code",
      "source": [
        "# @title isprintable\n",
        "M = \"Hello! Are you #1?\"\n",
        "x = M.isprintable()\n",
        "print(x)\n",
        "\n"
      ],
      "metadata": {
        "colab": {
          "base_uri": "https://localhost:8080/"
        },
        "id": "Wyzx_dI797ju",
        "outputId": "88eb049b-8d81-4334-c4b7-20a7bcb0ca60"
      },
      "execution_count": null,
      "outputs": [
        {
          "output_type": "stream",
          "name": "stdout",
          "text": [
            "True\n"
          ]
        }
      ]
    },
    {
      "cell_type": "code",
      "source": [
        "# @title isspace\n",
        "m = \"   \"\n",
        "x = m.isspace()\n",
        "print(x)\n"
      ],
      "metadata": {
        "colab": {
          "base_uri": "https://localhost:8080/"
        },
        "id": "8Pp7XVW397o8",
        "outputId": "16e58d46-b883-499a-85fe-a5bf3c10c29a"
      },
      "execution_count": null,
      "outputs": [
        {
          "output_type": "stream",
          "name": "stdout",
          "text": [
            "True\n"
          ]
        }
      ]
    },
    {
      "cell_type": "code",
      "source": [
        "m = \" fg tfygj   \"\n",
        "x = m.isspace()\n",
        "print(x)"
      ],
      "metadata": {
        "colab": {
          "base_uri": "https://localhost:8080/"
        },
        "id": "4vqGD4V997rD",
        "outputId": "e8752622-0921-4f8b-f7c5-0533b0f36a2a"
      },
      "execution_count": null,
      "outputs": [
        {
          "output_type": "stream",
          "name": "stdout",
          "text": [
            "False\n"
          ]
        }
      ]
    },
    {
      "cell_type": "code",
      "source": [
        "# @title istitle\n",
        "t = \"Hello, And Welcome To My World!\"\n",
        "x = t.istitle()\n",
        "print(x)\n",
        "\n"
      ],
      "metadata": {
        "colab": {
          "base_uri": "https://localhost:8080/"
        },
        "id": "0-9wc-ed97tg",
        "outputId": "b029ebb3-0451-4712-a62f-385933ea115c"
      },
      "execution_count": null,
      "outputs": [
        {
          "output_type": "stream",
          "name": "stdout",
          "text": [
            "True\n"
          ]
        }
      ]
    },
    {
      "cell_type": "code",
      "source": [
        "t = \"hello, And Welcome To My World!\"\n",
        "x = t.istitle()\n",
        "print(x)\n",
        "\n"
      ],
      "metadata": {
        "colab": {
          "base_uri": "https://localhost:8080/"
        },
        "id": "K_wG5d0z97wA",
        "outputId": "7ab329ae-94df-4de6-bc07-a408057f925d"
      },
      "execution_count": null,
      "outputs": [
        {
          "output_type": "stream",
          "name": "stdout",
          "text": [
            "False\n"
          ]
        }
      ]
    },
    {
      "cell_type": "code",
      "source": [
        "# @title isupper\n",
        "t = \"THIS IS NOW!\"\n",
        "x = t.isupper()\n",
        "print(x)\n"
      ],
      "metadata": {
        "colab": {
          "base_uri": "https://localhost:8080/"
        },
        "id": "lWtLDz8w97yc",
        "outputId": "910a29d4-db5d-4bc7-f500-5a31afe7782e"
      },
      "execution_count": null,
      "outputs": [
        {
          "output_type": "stream",
          "name": "stdout",
          "text": [
            "True\n"
          ]
        }
      ]
    },
    {
      "cell_type": "code",
      "source": [
        "t = \"thIS IS NOW!\"\n",
        "x = t.isupper()\n",
        "print(x)\n"
      ],
      "metadata": {
        "colab": {
          "base_uri": "https://localhost:8080/"
        },
        "id": "v9QHlpbJ9703",
        "outputId": "8a075abc-8227-451d-cb64-bf0af9cc3d61"
      },
      "execution_count": null,
      "outputs": [
        {
          "output_type": "stream",
          "name": "stdout",
          "text": [
            "False\n"
          ]
        }
      ]
    },
    {
      "cell_type": "code",
      "source": [
        "# @title JOIN\n",
        "T = (\"John\", \"Peter\", \"Vicky\")\n",
        "\n",
        "x = \"#\".join(T)\n",
        "\n",
        "print(x)\n"
      ],
      "metadata": {
        "colab": {
          "base_uri": "https://localhost:8080/"
        },
        "id": "fa0JPPLl973H",
        "outputId": "3d8d5ad2-6a96-4b7b-ea53-3485a040d292"
      },
      "execution_count": null,
      "outputs": [
        {
          "output_type": "stream",
          "name": "stdout",
          "text": [
            "John#Peter#Vicky\n"
          ]
        }
      ]
    },
    {
      "cell_type": "code",
      "source": [
        "# @title ljust\n",
        "t = \"banana\"\n",
        "x = t.ljust(20)\n",
        "print(x, \"is my favorite fruit.\")\n"
      ],
      "metadata": {
        "colab": {
          "base_uri": "https://localhost:8080/"
        },
        "id": "uKRngfrz975y",
        "outputId": "43f7e432-1008-41b8-896a-9720b3807d1a"
      },
      "execution_count": null,
      "outputs": [
        {
          "output_type": "stream",
          "name": "stdout",
          "text": [
            "banana               is my favorite fruit.\n"
          ]
        }
      ]
    },
    {
      "cell_type": "code",
      "source": [
        "# @title rjust\n",
        "t = \"banana\"\n",
        "x = t.rjust(20)\n",
        "print(x, \"is my favorite fruit.\")\n"
      ],
      "metadata": {
        "colab": {
          "base_uri": "https://localhost:8080/"
        },
        "id": "yLAjy_Jt978G",
        "outputId": "f7bfbc3b-0763-4ddb-d3d4-be49f1ca0482"
      },
      "execution_count": null,
      "outputs": [
        {
          "output_type": "stream",
          "name": "stdout",
          "text": [
            "              banana is my favorite fruit.\n"
          ]
        }
      ]
    },
    {
      "cell_type": "code",
      "source": [
        "# @title lower\n",
        "t = \"Hello my FRIENDS\"\n",
        "x = t.lower()\n",
        "print(x)\n"
      ],
      "metadata": {
        "colab": {
          "base_uri": "https://localhost:8080/"
        },
        "id": "iQ2hUDFw97-0",
        "outputId": "65dce00e-ea21-4129-b388-e528bc9527d8"
      },
      "execution_count": null,
      "outputs": [
        {
          "output_type": "stream",
          "name": "stdout",
          "text": [
            "hello my friends\n"
          ]
        }
      ]
    },
    {
      "cell_type": "code",
      "source": [
        "# @title lstrip\n",
        "t = \"     banana     \"\n",
        "x = t.lstrip()\n",
        "print(\"of all fruits\", x, \"is my favorite\")\n"
      ],
      "metadata": {
        "colab": {
          "base_uri": "https://localhost:8080/"
        },
        "id": "cKWak-lA98BK",
        "outputId": "8b815771-24fa-4fec-e5af-3815d25e8d4c"
      },
      "execution_count": null,
      "outputs": [
        {
          "output_type": "stream",
          "name": "stdout",
          "text": [
            "of all fruits banana      is my favorite\n"
          ]
        }
      ]
    },
    {
      "cell_type": "code",
      "source": [
        "# @title maketrans\n",
        "t = \"Hello Sam!\"\n",
        "m = str.maketrans(\"S\", \"P\")\n",
        "print(t.translate(m))\n"
      ],
      "metadata": {
        "colab": {
          "base_uri": "https://localhost:8080/"
        },
        "id": "tdYTxQ-098Db",
        "outputId": "ca3c2a80-29ea-4848-a889-59cf6f4e76e0"
      },
      "execution_count": null,
      "outputs": [
        {
          "output_type": "stream",
          "name": "stdout",
          "text": [
            "Hello Pam!\n"
          ]
        }
      ]
    },
    {
      "cell_type": "code",
      "source": [
        "# @title partition\n",
        "t = \"I could eat bananas all day\"\n",
        "x = t.partition(\"bananas\")\n",
        "print(x)\n",
        "\n"
      ],
      "metadata": {
        "colab": {
          "base_uri": "https://localhost:8080/"
        },
        "id": "CxKkvf2498Fw",
        "outputId": "37499378-cdd2-4fd4-b632-7553999aa798"
      },
      "execution_count": null,
      "outputs": [
        {
          "output_type": "stream",
          "name": "stdout",
          "text": [
            "('I could eat ', 'bananas', ' all day')\n"
          ]
        }
      ]
    },
    {
      "cell_type": "code",
      "source": [
        "# @title replace\n",
        "t = \"I like bananas\"\n",
        "x = t.replace(\"bananas\", \"apples\")\n",
        "print(x)\n"
      ],
      "metadata": {
        "colab": {
          "base_uri": "https://localhost:8080/"
        },
        "id": "EOMwI5dc98IT",
        "outputId": "31ecc9e0-655f-49aa-bf6e-40259a6f26a1"
      },
      "execution_count": null,
      "outputs": [
        {
          "output_type": "stream",
          "name": "stdout",
          "text": [
            "I like apples\n"
          ]
        }
      ]
    },
    {
      "cell_type": "code",
      "source": [
        "# @title rfind\n",
        "t = \"Mi casa, su casa.\"\n",
        "x = t.rfind(\"casa\")\n",
        "print(x)\n"
      ],
      "metadata": {
        "colab": {
          "base_uri": "https://localhost:8080/"
        },
        "id": "9ZjKhJkB98Ks",
        "outputId": "261572c9-d7ae-4cbe-bcdc-7465e7b9ffa2"
      },
      "execution_count": null,
      "outputs": [
        {
          "output_type": "stream",
          "name": "stdout",
          "text": [
            "12\n"
          ]
        }
      ]
    },
    {
      "cell_type": "code",
      "source": [
        "t = \"Mi casa, su casa, Mi casa, su casa.\"\n",
        "x = t.rfind(\"casa\")\n",
        "print(x)\n",
        "\n"
      ],
      "metadata": {
        "colab": {
          "base_uri": "https://localhost:8080/"
        },
        "id": "SP4UpjbO98NX",
        "outputId": "5fd7bd28-87e6-4128-f48a-88fb8ba97a16"
      },
      "execution_count": null,
      "outputs": [
        {
          "output_type": "stream",
          "name": "stdout",
          "text": [
            "30\n"
          ]
        }
      ]
    },
    {
      "cell_type": "code",
      "source": [
        "# @title rindex\n",
        "t = \"Mi casa, su casa. mi the fschgz ca casa \"\n",
        "x = t.rindex(\"casa\")\n",
        "print(x)\n"
      ],
      "metadata": {
        "colab": {
          "base_uri": "https://localhost:8080/"
        },
        "id": "7DtOHf2M98Pu",
        "outputId": "14618155-ce01-4fae-8c4e-9446eb15ca62"
      },
      "execution_count": null,
      "outputs": [
        {
          "output_type": "stream",
          "name": "stdout",
          "text": [
            "35\n"
          ]
        }
      ]
    },
    {
      "cell_type": "code",
      "source": [
        "# @title rjust\n",
        "t = \"banana\"\n",
        "x = t.rjust(20)\n",
        "print(x, \"is my favorite fruit.\")\n"
      ],
      "metadata": {
        "colab": {
          "base_uri": "https://localhost:8080/"
        },
        "id": "8Az6HHhn98SS",
        "outputId": "fd212e35-e501-4d1b-83c4-0f1472ba1b19"
      },
      "execution_count": null,
      "outputs": [
        {
          "output_type": "stream",
          "name": "stdout",
          "text": [
            "              banana is my favorite fruit.\n"
          ]
        }
      ]
    },
    {
      "cell_type": "code",
      "source": [
        "# @title rpartition\n",
        "t = \"I could eat bananas all day, apples are my favorite frui and  bananas are also my favorite fruit\"\n",
        "x = t.rpartition(\"bananas\")\n",
        "print(x)\n"
      ],
      "metadata": {
        "colab": {
          "base_uri": "https://localhost:8080/"
        },
        "id": "CPOzcD7r98UW",
        "outputId": "bc66ecc9-ef08-4af6-9ce1-7230f9f45721"
      },
      "execution_count": null,
      "outputs": [
        {
          "output_type": "stream",
          "name": "stdout",
          "text": [
            "('I could eat bananas all day, apples are my favorite frui and  ', 'bananas', ' are also my favorite fruit')\n"
          ]
        }
      ]
    },
    {
      "cell_type": "code",
      "source": [
        "# @title rsplit\n",
        "t = \"apple, banana, cherry\"\n",
        "x = t.rsplit(\", \")\n",
        "print(x)\n"
      ],
      "metadata": {
        "colab": {
          "base_uri": "https://localhost:8080/"
        },
        "id": "-yPL9nmDHmHN",
        "outputId": "78094213-7958-4447-8cee-0981a852fe5d"
      },
      "execution_count": null,
      "outputs": [
        {
          "output_type": "stream",
          "name": "stdout",
          "text": [
            "['apple', 'banana', 'cherry']\n"
          ]
        }
      ]
    },
    {
      "cell_type": "code",
      "source": [
        "# @title rstrip\n",
        "t = \"     banana     \"\n",
        "x = t.rstrip()\n",
        "print(\"of all fruits\", x, \"is my favorite\")\n"
      ],
      "metadata": {
        "colab": {
          "base_uri": "https://localhost:8080/"
        },
        "id": "-bvDX2nLHwI_",
        "outputId": "f1d0fb45-679b-46bf-a0c5-c5d496b9e4c0"
      },
      "execution_count": null,
      "outputs": [
        {
          "output_type": "stream",
          "name": "stdout",
          "text": [
            "of all fruits      banana is my favorite\n"
          ]
        }
      ]
    },
    {
      "cell_type": "code",
      "source": [
        "# @title split\n",
        "t = \"welcome to the jungle\"\n",
        "x = t.split()\n",
        "print(x)\n",
        "\n"
      ],
      "metadata": {
        "colab": {
          "base_uri": "https://localhost:8080/"
        },
        "id": "1MJcuOA_HwOF",
        "outputId": "14f4864f-9789-41ec-be06-b620de39645e"
      },
      "execution_count": null,
      "outputs": [
        {
          "output_type": "stream",
          "name": "stdout",
          "text": [
            "['welcome', 'to', 'the', 'jungle']\n"
          ]
        }
      ]
    },
    {
      "cell_type": "code",
      "source": [
        "# @title splitlines\n",
        "t = \"Thank you for the music\\nWelcome to the jungle\"\n",
        "\n",
        "x = t.splitlines()\n",
        "\n",
        "print(x)\n",
        "\n"
      ],
      "metadata": {
        "colab": {
          "base_uri": "https://localhost:8080/"
        },
        "id": "xrfjHWaNHwR4",
        "outputId": "ff533c0d-31af-40c0-a12b-b47c49a2c91d"
      },
      "execution_count": null,
      "outputs": [
        {
          "output_type": "stream",
          "name": "stdout",
          "text": [
            "['Thank you for the music', 'Welcome to the jungle']\n"
          ]
        }
      ]
    },
    {
      "cell_type": "code",
      "source": [
        "# @title startswith\n",
        "t = \"Hello, welcome to my world.\"\n",
        "x = t.startswith(\"Hello\")\n",
        "print(x)\n"
      ],
      "metadata": {
        "colab": {
          "base_uri": "https://localhost:8080/"
        },
        "id": "zWIHqJIgHwVx",
        "outputId": "a7c9729e-98fb-403a-ba4d-f0e784dc2032"
      },
      "execution_count": null,
      "outputs": [
        {
          "output_type": "stream",
          "name": "stdout",
          "text": [
            "True\n"
          ]
        }
      ]
    },
    {
      "cell_type": "code",
      "source": [
        "t = \"Hello, welcome to my world.\"\n",
        "x = t.startswith(\"hello\")\n",
        "print(x)\n",
        "\n"
      ],
      "metadata": {
        "colab": {
          "base_uri": "https://localhost:8080/"
        },
        "id": "OY8ndJhVHwZb",
        "outputId": "e10769bb-5ffb-4adb-a04e-76aa96d006ea"
      },
      "execution_count": null,
      "outputs": [
        {
          "output_type": "stream",
          "name": "stdout",
          "text": [
            "False\n"
          ]
        }
      ]
    },
    {
      "cell_type": "code",
      "source": [
        "# @title strip\n",
        "t = \"     banana     \"\n",
        "x = t.strip()\n",
        "print(\"of all fruits\", x, \"is my favorite\")\n"
      ],
      "metadata": {
        "colab": {
          "base_uri": "https://localhost:8080/"
        },
        "id": "UzQzkKPfHwdA",
        "outputId": "307b86bb-abd8-4e0d-d9f6-47224ee15a6d"
      },
      "execution_count": null,
      "outputs": [
        {
          "output_type": "stream",
          "name": "stdout",
          "text": [
            "of all fruits banana is my favorite\n"
          ]
        }
      ]
    },
    {
      "cell_type": "code",
      "source": [
        "# @title swapcase\n",
        "t = \"Hello My Name Is PETER\"\n",
        "x = t.swapcase()\n",
        "print(x)\n"
      ],
      "metadata": {
        "colab": {
          "base_uri": "https://localhost:8080/"
        },
        "id": "1HFI6O-NHwgd",
        "outputId": "34544789-df27-4a46-8cb6-9cb11399016a"
      },
      "execution_count": null,
      "outputs": [
        {
          "output_type": "stream",
          "name": "stdout",
          "text": [
            "hELLO mY nAME iS peter\n"
          ]
        }
      ]
    },
    {
      "cell_type": "code",
      "source": [
        "# @title title\n",
        "t = \"Welcome to my world\"\n",
        "x = t.title()\n",
        "print(x)\n",
        "\n"
      ],
      "metadata": {
        "colab": {
          "base_uri": "https://localhost:8080/"
        },
        "id": "2pX90Yn8Hwj8",
        "outputId": "c545dd56-47cc-44f3-ede3-7c27e66f134f"
      },
      "execution_count": null,
      "outputs": [
        {
          "output_type": "stream",
          "name": "stdout",
          "text": [
            "Welcome To My World\n"
          ]
        }
      ]
    },
    {
      "cell_type": "code",
      "source": [
        "# @title translate\n",
        "t = \"Hello Sam!\"\n",
        "e = str.maketrans(\"S\", \"P\")\n",
        "print(t.translate(e))\n",
        "\n"
      ],
      "metadata": {
        "colab": {
          "base_uri": "https://localhost:8080/"
        },
        "id": "DHBqzILeHwnR",
        "outputId": "db9a939b-b1a4-46ce-ffdc-160901717c7e"
      },
      "execution_count": null,
      "outputs": [
        {
          "output_type": "stream",
          "name": "stdout",
          "text": [
            "Hello Pam!\n"
          ]
        }
      ]
    },
    {
      "cell_type": "code",
      "source": [
        "# @title upper\n",
        "t = \"Hello my friends\"\n",
        "\n",
        "x = t.upper()\n",
        "\n",
        "print(x)\n",
        "\n"
      ],
      "metadata": {
        "colab": {
          "base_uri": "https://localhost:8080/"
        },
        "id": "SBtLOAMEHwqO",
        "outputId": "79beeeee-db30-406b-8a25-7737944dd33e"
      },
      "execution_count": null,
      "outputs": [
        {
          "output_type": "stream",
          "name": "stdout",
          "text": [
            "HELLO MY FRIENDS\n"
          ]
        }
      ]
    },
    {
      "cell_type": "code",
      "source": [
        "# @title zfill\n",
        "t = \"50\"\n",
        "x = t.zfill(10)\n",
        "print(x)\n"
      ],
      "metadata": {
        "colab": {
          "base_uri": "https://localhost:8080/"
        },
        "id": "fPeUVJzhKr03",
        "outputId": "52e62e94-4550-4cdb-8fd3-edeaba575138"
      },
      "execution_count": null,
      "outputs": [
        {
          "output_type": "stream",
          "name": "stdout",
          "text": [
            "0000000050\n"
          ]
        }
      ]
    },
    {
      "cell_type": "markdown",
      "source": [
        "**Tuple**\n",
        "* Tuples are used to store multiple items in a single variable.\n",
        "\n",
        "*  Tuple is one of 4 built-in data types in Python used to store collections of data, the other 3 are List, Set, and Dictionary, all with different qualities and usage.\n",
        "\n",
        "* A tuple is a collection which is ordered and unchangeable.\n",
        "\n",
        "* Tuples are written with round brackets."
      ],
      "metadata": {
        "id": "7_PsDiNoMAQy"
      }
    },
    {
      "cell_type": "code",
      "source": [
        "M = (\"apple\", \"banana\", \"cherry\")\n",
        "print(M)"
      ],
      "metadata": {
        "colab": {
          "base_uri": "https://localhost:8080/"
        },
        "id": "BHu3Uz_kMNbs",
        "outputId": "03ddea6d-a6b0-4219-fd44-73dceea39020"
      },
      "execution_count": null,
      "outputs": [
        {
          "output_type": "stream",
          "name": "stdout",
          "text": [
            "('apple', 'banana', 'cherry')\n"
          ]
        }
      ]
    },
    {
      "cell_type": "markdown",
      "source": [
        "**Tuple Items**\n",
        "* Tuple items are ordered, unchangeable, and allow duplicate values.\n",
        "\n",
        "* Tuple items are indexed, the first item has index [0], the second item has index [1] etc.\n",
        "\n",
        "**Ordered**\n",
        "* When we say that tuples are ordered, it means that the items have a defined order, and that order will not change.\n",
        "\n",
        "**Unchangeable**\n",
        "* Tuples are unchangeable, meaning that we cannot change, add or remove items after the tuple has been created.\n",
        "\n",
        "**Allow Duplicates**\n",
        "* Since tuples are indexed, they can have items with the same value"
      ],
      "metadata": {
        "id": "OPKVaJF-MlgY"
      }
    },
    {
      "cell_type": "code",
      "source": [
        "# @title DUPLICATE\n",
        "t = (\"apple\", \"banana\", \"cherry\", \"apple\", \"cherry\")\n",
        "print(t)\n"
      ],
      "metadata": {
        "colab": {
          "base_uri": "https://localhost:8080/"
        },
        "id": "8srLoUUSM3Tp",
        "outputId": "0481a1a9-a829-4b4b-eb67-49a0d7dc682c"
      },
      "execution_count": null,
      "outputs": [
        {
          "output_type": "stream",
          "name": "stdout",
          "text": [
            "('apple', 'banana', 'cherry', 'apple', 'cherry')\n"
          ]
        }
      ]
    },
    {
      "cell_type": "markdown",
      "source": [
        "**Tuple Length**\n",
        "* To determine how many items a tuple has, use the len() function:"
      ],
      "metadata": {
        "id": "KMCa7xeANJWW"
      }
    },
    {
      "cell_type": "code",
      "source": [
        "# @title length\n",
        "t = (\"apple\", \"banana\", \"cherry\", \"apple\", \"cherry\")\n",
        "print(len(t))\n"
      ],
      "metadata": {
        "colab": {
          "base_uri": "https://localhost:8080/"
        },
        "id": "2K3PwouSNLzd",
        "outputId": "ddd2b0fb-ce3b-419e-d7cb-11b9f21e47da"
      },
      "execution_count": null,
      "outputs": [
        {
          "output_type": "stream",
          "name": "stdout",
          "text": [
            "5\n"
          ]
        }
      ]
    },
    {
      "cell_type": "markdown",
      "source": [
        "**Create Tuple With One Item**\n",
        "* To create a tuple with only one item, you have to add a comma after the item, otherwise Python will not recognize it as a tuple.\n",
        "\n",
        "\n"
      ],
      "metadata": {
        "id": "KvNx8AiINa6O"
      }
    },
    {
      "cell_type": "code",
      "source": [
        "# @title One item tuple,remember the comma:\n",
        "t = (\"apple\",)\n",
        "print(type(t))\n",
        "\n",
        "#NOT a tuple\n",
        "t = (\"apple\")\n",
        "print(type(t))"
      ],
      "metadata": {
        "colab": {
          "base_uri": "https://localhost:8080/"
        },
        "id": "RAuBJ6wFNfv9",
        "outputId": "9c50e873-65cc-4404-aa53-b9ac5e100fba"
      },
      "execution_count": null,
      "outputs": [
        {
          "output_type": "stream",
          "name": "stdout",
          "text": [
            "<class 'tuple'>\n",
            "<class 'str'>\n"
          ]
        }
      ]
    },
    {
      "cell_type": "markdown",
      "source": [
        "**Tuple Items - Data Types**\n",
        "Tuple items can be of any data type:\n",
        "**Example:**\n",
        "tuple1 = (\"apple\", \"banana\", \"cherry\")\n",
        "tuple2 = (1, 5, 7, 9, 3)\n",
        "tuple3 = (True, False, False)\n",
        "print(tuple1,tuple2,tuple3)"
      ],
      "metadata": {
        "id": "vz78XpWIOD9_"
      }
    },
    {
      "cell_type": "code",
      "source": [
        "# @title tuple_example\n",
        "tuple1 = (\"abc\", 34, True, 40, \"male\")\n",
        "print(type(tuple1))\n",
        "print(tuple1)"
      ],
      "metadata": {
        "colab": {
          "base_uri": "https://localhost:8080/"
        },
        "id": "VB8F6o1iONcS",
        "outputId": "46e1d378-d043-4ff3-c159-c3f81991cb82"
      },
      "execution_count": null,
      "outputs": [
        {
          "output_type": "stream",
          "name": "stdout",
          "text": [
            "<class 'tuple'>\n",
            "('abc', 34, True, 40, 'male')\n"
          ]
        }
      ]
    },
    {
      "cell_type": "markdown",
      "source": [
        "**Access Tuple Items**\n",
        "You can access tuple items by referring to the index number, inside square brackets:"
      ],
      "metadata": {
        "id": "P_gIGpR-O_Wf"
      }
    },
    {
      "cell_type": "code",
      "source": [
        "# @title access tuple item\n",
        "t = (\"apple\", \"banana\", \"cherry\")\n",
        "print(t[1])"
      ],
      "metadata": {
        "colab": {
          "base_uri": "https://localhost:8080/"
        },
        "id": "GbmXybUiONiY",
        "outputId": "ef2228c7-48b7-4f47-d4d5-d6c9203a8b7d"
      },
      "execution_count": null,
      "outputs": [
        {
          "output_type": "stream",
          "name": "stdout",
          "text": [
            "banana\n"
          ]
        }
      ]
    },
    {
      "cell_type": "markdown",
      "source": [
        "**Negative Indexing**\n",
        "Negative indexing means start from the end.\n",
        "\n",
        "-1 refers to the last item, -2 refers to the second last item etc."
      ],
      "metadata": {
        "id": "WbYuum73POIT"
      }
    },
    {
      "cell_type": "code",
      "source": [
        "# @title negative indexing\n",
        "t = (\"apple\", \"banana\", \"cherry\")\n",
        "print(t[-1])"
      ],
      "metadata": {
        "colab": {
          "base_uri": "https://localhost:8080/"
        },
        "id": "IvIXlT3nONnj",
        "outputId": "66dc874b-b5e6-47b4-cb09-a5c8d9d7ced2"
      },
      "execution_count": null,
      "outputs": [
        {
          "output_type": "stream",
          "name": "stdout",
          "text": [
            "cherry\n"
          ]
        }
      ]
    },
    {
      "cell_type": "markdown",
      "source": [
        "**Range of Indexes**\n",
        "* You can specify a range of indexes by specifying where to start and where to end the range.\n",
        "\n",
        "* When specifying a range, the return value will be a new tuple with the specified items."
      ],
      "metadata": {
        "id": "yEUIt4GRPZ3F"
      }
    },
    {
      "cell_type": "code",
      "source": [
        "# @title ranges of indexes\n",
        "thistuple = (\"apple\", \"banana\", \"cherry\", \"orange\", \"kiwi\", \"melon\", \"mango\")\n",
        "print(thistuple[2:5])"
      ],
      "metadata": {
        "colab": {
          "base_uri": "https://localhost:8080/"
        },
        "id": "JwHTOOV8ONrr",
        "outputId": "a709255a-016e-4690-c008-544f9f056f82"
      },
      "execution_count": null,
      "outputs": [
        {
          "output_type": "stream",
          "name": "stdout",
          "text": [
            "('cherry', 'orange', 'kiwi')\n"
          ]
        }
      ]
    },
    {
      "cell_type": "code",
      "source": [
        "thistuple = (\"apple\", \"banana\", \"cherry\", \"orange\", \"kiwi\", \"melon\", \"mango\")\n",
        "print(thistuple[:4])"
      ],
      "metadata": {
        "colab": {
          "base_uri": "https://localhost:8080/"
        },
        "id": "QuttE_xgONuL",
        "outputId": "d4ad6b21-d6c4-49c1-bec3-b37b53e21b4e"
      },
      "execution_count": null,
      "outputs": [
        {
          "output_type": "stream",
          "name": "stdout",
          "text": [
            "('apple', 'banana', 'cherry', 'orange')\n"
          ]
        }
      ]
    },
    {
      "cell_type": "code",
      "source": [
        "thistuple = (\"apple\", \"banana\", \"cherry\", \"orange\", \"kiwi\", \"melon\", \"mango\")\n",
        "print(thistuple[2:])"
      ],
      "metadata": {
        "colab": {
          "base_uri": "https://localhost:8080/"
        },
        "id": "4NCdN15xONw0",
        "outputId": "7886510f-1451-4c2c-b355-624981e36020"
      },
      "execution_count": null,
      "outputs": [
        {
          "output_type": "stream",
          "name": "stdout",
          "text": [
            "('cherry', 'orange', 'kiwi', 'melon', 'mango')\n"
          ]
        }
      ]
    },
    {
      "cell_type": "code",
      "source": [
        "thistuple = (\"apple\", \"banana\", \"cherry\", \"orange\", \"kiwi\", \"melon\", \"mango\")\n",
        "print(thistuple[-4:-1])"
      ],
      "metadata": {
        "colab": {
          "base_uri": "https://localhost:8080/"
        },
        "id": "lRcSYGinONzM",
        "outputId": "ccde6442-9ac7-42c1-b11a-b8a0508ea631"
      },
      "execution_count": null,
      "outputs": [
        {
          "output_type": "stream",
          "name": "stdout",
          "text": [
            "('orange', 'kiwi', 'melon')\n"
          ]
        }
      ]
    },
    {
      "cell_type": "code",
      "source": [
        "thistuple = (\"apple\", \"banana\", \"cherry\")\n",
        "if \"apple\" in thistuple:\n",
        "  print(\"Yes, 'apple' is in the fruits tuple\")"
      ],
      "metadata": {
        "colab": {
          "base_uri": "https://localhost:8080/"
        },
        "id": "VZcZw1bqON1R",
        "outputId": "3325b37c-077f-4887-9a37-1d2a8a1de4d2"
      },
      "execution_count": null,
      "outputs": [
        {
          "output_type": "stream",
          "name": "stdout",
          "text": [
            "Yes, 'apple' is in the fruits tuple\n"
          ]
        }
      ]
    },
    {
      "cell_type": "markdown",
      "source": [
        "**Python - Update Tuples**\n",
        "* Tuples are unchangeable, meaning that you cannot change, add, or remove items once the tuple is created.\n",
        "\n",
        "* But there are some workarounds.\n",
        "\n",
        "**Change Tuple Values**\n",
        "* Once a tuple is created, you cannot change its values. Tuples are unchangeable, or immutable as it also is called.\n",
        "\n",
        "* But there is a workaround. You can convert the tuple into a list, change the list, and convert the list back into a tuple."
      ],
      "metadata": {
        "id": "4i5sbz2CQChD"
      }
    },
    {
      "cell_type": "code",
      "source": [
        "# @title Convert the tuple into a list to be able to change it:\n",
        "x = (\"apple\", \"banana\", \"cherry\")\n",
        "y = list(x)\n",
        "y[1] = \"kiwi\"\n",
        "x = tuple(y)\n",
        "\n",
        "print(x)"
      ],
      "metadata": {
        "colab": {
          "base_uri": "https://localhost:8080/"
        },
        "id": "zohgrQ8YP4yx",
        "outputId": "43ea5549-861b-4e2d-c1bf-05a704aabc8c"
      },
      "execution_count": null,
      "outputs": [
        {
          "output_type": "stream",
          "name": "stdout",
          "text": [
            "('apple', 'kiwi', 'cherry')\n"
          ]
        }
      ]
    },
    {
      "cell_type": "markdown",
      "source": [
        "**Add Items**\n",
        "* Since tuples are immutable, they do not have a built-in append() method, but there are other ways to add items to a tuple.\n",
        "\n",
        "1. Convert into a list: Just like the workaround for changing a tuple, you can convert it into a list, add your item(s), and convert it back into a tuple.\n",
        "\n",
        "**Example**\n",
        "* Convert the tuple into a list, add \"orange\", and convert it back into a tuple:\n",
        "\n",
        "  thistuple = (\"apple\", \"banana\", \"cherry\")\n",
        "\n",
        "  y = list(thistuple)\n",
        "  y.append(\"orange\")\n",
        "\n",
        "  thistuple = tuple(y)\n",
        "\n",
        "\n",
        "2. Add tuple to a tuple. You are allowed to add tuples to tuples, so if you want to add one item, (or many), create a new tuple with the item(s), and add it to the existing tuple:\n",
        "\n",
        "**Example**\n",
        "* Create a new tuple with the value \"orange\", and add that tuple:\n",
        "\n",
        "  thistuple = (\"apple\", \"banana\", \"cherry\")\n",
        "\n",
        "  y = (\"orange\",)\n",
        "  thistuple += y\n",
        "\n",
        "  print(thistuple)"
      ],
      "metadata": {
        "id": "p5qEKEmlQlTm"
      }
    },
    {
      "cell_type": "markdown",
      "source": [
        "**Remove Items**\n",
        "\n",
        "\n",
        "* Tuples are unchangeable, so you cannot remove items from it, but you can use the same workaround as we used for changing and adding tuple items:"
      ],
      "metadata": {
        "id": "ttZ6ex9RRN4P"
      }
    },
    {
      "cell_type": "code",
      "source": [
        "# @title remove\n",
        "thistuple = (\"apple\", \"banana\", \"cherry\")\n",
        "y = list(thistuple)\n",
        "y.remove(\"apple\")\n",
        "thistuple = tuple(y)\n",
        "print(thistuple)\n"
      ],
      "metadata": {
        "colab": {
          "base_uri": "https://localhost:8080/"
        },
        "id": "oARIYaQrP5Zc",
        "outputId": "6bc5a9c4-9857-4533-a9e3-900bd3a4071e"
      },
      "execution_count": null,
      "outputs": [
        {
          "output_type": "stream",
          "name": "stdout",
          "text": [
            "('banana', 'cherry')\n"
          ]
        }
      ]
    },
    {
      "cell_type": "markdown",
      "source": [
        "**delete items**\n",
        "* you can delete the tuple completely:"
      ],
      "metadata": {
        "id": "1gjRrq1WRjAt"
      }
    },
    {
      "cell_type": "code",
      "source": [
        "# @title delete\n",
        "thistuple = (\"apple\", \"banana\", \"cherry\")\n",
        "del (thistuple)\n",
        "print(thistuple) #this will raise an error because the tuple no longer exists"
      ],
      "metadata": {
        "colab": {
          "base_uri": "https://localhost:8080/",
          "height": 176
        },
        "id": "CnDwqgMoP5ga",
        "outputId": "71a0d450-47b3-406a-d762-d23a38589bac"
      },
      "execution_count": null,
      "outputs": [
        {
          "output_type": "error",
          "ename": "NameError",
          "evalue": "name 'thistuple' is not defined",
          "traceback": [
            "\u001b[0;31m---------------------------------------------------------------------------\u001b[0m",
            "\u001b[0;31mNameError\u001b[0m                                 Traceback (most recent call last)",
            "\u001b[0;32m<ipython-input-103-0daefc88f234>\u001b[0m in \u001b[0;36m<cell line: 4>\u001b[0;34m()\u001b[0m\n\u001b[1;32m      2\u001b[0m \u001b[0mthistuple\u001b[0m \u001b[0;34m=\u001b[0m \u001b[0;34m(\u001b[0m\u001b[0;34m\"apple\"\u001b[0m\u001b[0;34m,\u001b[0m \u001b[0;34m\"banana\"\u001b[0m\u001b[0;34m,\u001b[0m \u001b[0;34m\"cherry\"\u001b[0m\u001b[0;34m)\u001b[0m\u001b[0;34m\u001b[0m\u001b[0;34m\u001b[0m\u001b[0m\n\u001b[1;32m      3\u001b[0m \u001b[0;32mdel\u001b[0m \u001b[0;34m(\u001b[0m\u001b[0mthistuple\u001b[0m\u001b[0;34m)\u001b[0m\u001b[0;34m\u001b[0m\u001b[0;34m\u001b[0m\u001b[0m\n\u001b[0;32m----> 4\u001b[0;31m \u001b[0mprint\u001b[0m\u001b[0;34m(\u001b[0m\u001b[0mthistuple\u001b[0m\u001b[0;34m)\u001b[0m\u001b[0;34m\u001b[0m\u001b[0;34m\u001b[0m\u001b[0m\n\u001b[0m",
            "\u001b[0;31mNameError\u001b[0m: name 'thistuple' is not defined"
          ]
        }
      ]
    },
    {
      "cell_type": "markdown",
      "source": [
        "**Unpack Tuples:**\n",
        "\n",
        "**Unpacking a Tuple**\n",
        "* When we create a tuple, we normally assign values to it. This is called \"packing\" a tuple:\n",
        "*But, in Python, we are also allowed to extract the values back into variables. This is called \"unpacking\":"
      ],
      "metadata": {
        "id": "9KiPRLHRR7zA"
      }
    },
    {
      "cell_type": "code",
      "source": [
        "# @title  packing a tuple\n",
        "fruits = (\"apple\", \"banana\", \"cherry\")\n",
        "print(fruits)"
      ],
      "metadata": {
        "colab": {
          "base_uri": "https://localhost:8080/"
        },
        "id": "ftF0kD2IP5l1",
        "outputId": "ebd76bdc-9e49-4a09-9068-ff638e2e3c23"
      },
      "execution_count": null,
      "outputs": [
        {
          "output_type": "stream",
          "name": "stdout",
          "text": [
            "('apple', 'banana', 'cherry')\n"
          ]
        }
      ]
    },
    {
      "cell_type": "code",
      "source": [
        "# @title unpacking\n",
        "fruits = (\"apple\", \"banana\", \"cherry\")\n",
        "\n",
        "(green, yellow, red) = fruits\n",
        "\n",
        "print(green)\n",
        "print(yellow)\n",
        "print(red)"
      ],
      "metadata": {
        "colab": {
          "base_uri": "https://localhost:8080/"
        },
        "id": "VKPePUedP5pb",
        "outputId": "7c589d01-541e-4db1-b416-d1e6bb722202"
      },
      "execution_count": null,
      "outputs": [
        {
          "output_type": "stream",
          "name": "stdout",
          "text": [
            "apple\n",
            "banana\n",
            "cherry\n"
          ]
        }
      ]
    },
    {
      "cell_type": "markdown",
      "source": [
        "**Loop Through a Tuple**\n",
        "* You can loop through the tuple items by using a for loop."
      ],
      "metadata": {
        "id": "eOOZ82nmSuP6"
      }
    },
    {
      "cell_type": "code",
      "source": [
        "# @title tuple items using a for loop\n",
        "thistuple = (\"apple\", \"banana\", \"cherry\")\n",
        "for x in thistuple:\n",
        "  print(x)"
      ],
      "metadata": {
        "colab": {
          "base_uri": "https://localhost:8080/"
        },
        "id": "gCU_1p6gP5sk",
        "outputId": "6b199a11-a5c6-43be-ed6b-a65139cd59ec"
      },
      "execution_count": null,
      "outputs": [
        {
          "output_type": "stream",
          "name": "stdout",
          "text": [
            "apple\n",
            "banana\n",
            "cherry\n"
          ]
        }
      ]
    },
    {
      "cell_type": "markdown",
      "source": [
        "**Loop Through the Index Numbers**\n",
        "* You can also loop through the tuple items by referring to their index number.\n",
        "\n",
        "\n",
        "* Use the range() and len() functions to create a suitable iterable."
      ],
      "metadata": {
        "id": "xzNQ88XdS99g"
      }
    },
    {
      "cell_type": "code",
      "source": [
        "# @title Loop Through the Index Numbers\n",
        "thistuple = (\"apple\", \"banana\", \"cherry\")\n",
        "for i in range(len(thistuple)):\n",
        "  print(thistuple[i])\n"
      ],
      "metadata": {
        "colab": {
          "base_uri": "https://localhost:8080/"
        },
        "id": "J5qXzfWyP5vB",
        "outputId": "8750951b-3603-4366-a156-3d34cfa29072"
      },
      "execution_count": null,
      "outputs": [
        {
          "output_type": "stream",
          "name": "stdout",
          "text": [
            "apple\n",
            "banana\n",
            "cherry\n"
          ]
        }
      ]
    },
    {
      "cell_type": "markdown",
      "source": [
        "**Using a While Loop**\n",
        "* You can loop through the tuple items by using a while loop.\n",
        "\n",
        "* Use the len() function to determine the length of the tuple, then start at 0 and loop your way through the tuple items by referring to their indexes.\n",
        "\n",
        "* Remember to increase the index by 1 after each iteration."
      ],
      "metadata": {
        "id": "gvmoXHG3TUHK"
      }
    },
    {
      "cell_type": "code",
      "source": [
        "# @title tuple using while loop\n",
        "thistuple = (\"apple\", \"banana\", \"cherry\")\n",
        "i = 0\n",
        "while i < len(thistuple):\n",
        "  print(thistuple[i])\n",
        "  i = i + 1"
      ],
      "metadata": {
        "colab": {
          "base_uri": "https://localhost:8080/"
        },
        "id": "Moq-rIosP5x3",
        "outputId": "008671d5-a79a-43ba-dd28-b9b200b1b4ff"
      },
      "execution_count": null,
      "outputs": [
        {
          "output_type": "stream",
          "name": "stdout",
          "text": [
            "apple\n",
            "banana\n",
            "cherry\n"
          ]
        }
      ]
    },
    {
      "cell_type": "markdown",
      "source": [
        "**Join Tuples:**\n",
        "\n",
        "**Join Two Tuples**\n",
        "* To join two or more tuples you can use the + operator:"
      ],
      "metadata": {
        "id": "abNlWBGGT256"
      }
    },
    {
      "cell_type": "code",
      "source": [
        "# @title Join Two Tuples\n",
        "tuple1 = (\"a\", \"b\" , \"c\")\n",
        "tuple2 = (1, 2, 3)\n",
        "\n",
        "tuple3 = tuple1 + tuple2\n",
        "print(tuple3)"
      ],
      "metadata": {
        "colab": {
          "base_uri": "https://localhost:8080/"
        },
        "id": "XCgnU4f9P50d",
        "outputId": "89cb4654-dc74-4ccf-fa91-66f81b358eeb"
      },
      "execution_count": null,
      "outputs": [
        {
          "output_type": "stream",
          "name": "stdout",
          "text": [
            "('a', 'b', 'c', 1, 2, 3)\n"
          ]
        }
      ]
    },
    {
      "cell_type": "markdown",
      "source": [
        "**Multiply Tuples**\n",
        "* If you want to multiply the content of a tuple a given number of times, you can use the * operator:"
      ],
      "metadata": {
        "id": "l3RfxAFLUIMB"
      }
    },
    {
      "cell_type": "code",
      "source": [
        "# @title Multiply the fruits tuple by 2\n",
        "fruits = (\"apple\", \"banana\", \"cherry\")\n",
        "mytuple = fruits * 2\n",
        "\n",
        "print(mytuple)"
      ],
      "metadata": {
        "colab": {
          "base_uri": "https://localhost:8080/"
        },
        "id": "gO4HBhxHT8xn",
        "outputId": "56c84729-cca2-4888-8ec9-6e03249ca8da"
      },
      "execution_count": null,
      "outputs": [
        {
          "output_type": "stream",
          "name": "stdout",
          "text": [
            "('apple', 'banana', 'cherry', 'apple', 'banana', 'cherry')\n"
          ]
        }
      ]
    },
    {
      "cell_type": "markdown",
      "source": [
        "**Tuple Methods**\n",
        "* Python has two built-in methods that you can use on tuples.\n",
        "* count() -\tReturns the number of times a specified value occurs in a tuple\n",
        "* index()-\tSearches the tuple for a specified value and returns the position of where it was found"
      ],
      "metadata": {
        "id": "Zi5l6F9ZUT7x"
      }
    },
    {
      "cell_type": "code",
      "source": [
        "# @title tuple_count\n",
        "thistuple = (1, 3, 7, 8, 7, 5, 4, 6, 8, 5)\n",
        "\n",
        "x = thistuple.count(5)\n",
        "\n",
        "print(x)\n"
      ],
      "metadata": {
        "colab": {
          "base_uri": "https://localhost:8080/"
        },
        "id": "6CC05oWWT81x",
        "outputId": "f1fb719f-930a-4605-e897-18008ad58aad"
      },
      "execution_count": null,
      "outputs": [
        {
          "output_type": "stream",
          "name": "stdout",
          "text": [
            "2\n"
          ]
        }
      ]
    },
    {
      "cell_type": "code",
      "source": [
        "# @title tuple_index\n",
        "thistuple = (1, 3, 7, 8, 7, 5, 4, 6, 8, 5)\n",
        "\n",
        "x = thistuple.index(8)\n",
        "\n",
        "print(x)"
      ],
      "metadata": {
        "colab": {
          "base_uri": "https://localhost:8080/"
        },
        "id": "YyM_FdykT85V",
        "outputId": "b099576d-5270-496b-b429-2012a64e82c1"
      },
      "execution_count": null,
      "outputs": [
        {
          "output_type": "stream",
          "name": "stdout",
          "text": [
            "3\n"
          ]
        }
      ]
    }
  ],
  "metadata": {
    "colab": {
      "provenance": [],
      "authorship_tag": "ABX9TyMb+mEWj/Gs49rOeTnz8EjJ",
      "include_colab_link": true
    },
    "kernelspec": {
      "display_name": "Python 3",
      "name": "python3"
    },
    "language_info": {
      "name": "python"
    }
  },
  "nbformat": 4,
  "nbformat_minor": 0
}